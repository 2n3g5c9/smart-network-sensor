{
 "cells": [
  {
   "cell_type": "markdown",
   "metadata": {
    "colab_type": "text",
    "id": "QL5zUEv-oGb5"
   },
   "source": [
    "# USMA CDX Network (NSA capture)\n",
    "Network capture made by the NSA for the United States Military Academy Cyber Defense training center."
   ]
  },
  {
   "cell_type": "code",
   "execution_count": 1,
   "metadata": {
    "colab": {
     "autoexec": {
      "startup": false,
      "wait_interval": 0
     },
     "base_uri": "https://localhost:8080/",
     "height": 34,
     "output_extras": [
      {
       "item_id": 1
      }
     ]
    },
    "colab_type": "code",
    "executionInfo": {
     "elapsed": 9950,
     "status": "ok",
     "timestamp": 1519562198110,
     "user": {
      "displayName": "Marc Molina",
      "photoUrl": "//lh5.googleusercontent.com/-dIBDSoYoRMc/AAAAAAAAAAI/AAAAAAAAANY/zZrXCrUi6mc/s50-c-k-no/photo.jpg",
      "userId": "107702413150327127433"
     },
     "user_tz": -60
    },
    "id": "DW2baZxaoBjf",
    "outputId": "135ef17b-38d8-41dc-8d74-ce237e6add19"
   },
   "outputs": [
    {
     "name": "stderr",
     "output_type": "stream",
     "text": [
      "Using TensorFlow backend.\n"
     ]
    }
   ],
   "source": [
    "import hashlib\n",
    "import numpy as np\n",
    "import matplotlib\n",
    "import matplotlib.pyplot as plt\n",
    "import pandas as pd\n",
    "import pprint\n",
    "import re\n",
    "\n",
    "from collections import Counter\n",
    "from dateutil.parser import parse\n",
    "from datetime import timedelta\n",
    "from functools import reduce\n",
    "from keras.layers import Dense\n",
    "from keras.layers import LSTM\n",
    "from keras.models import Sequential\n",
    "from math import floor, sqrt\n",
    "from matplotlib import pyplot\n",
    "from numpy import concatenate\n",
    "from sklearn.metrics import mean_squared_error\n",
    "from sklearn.preprocessing import MinMaxScaler\n",
    "\n",
    "matplotlib.style.use('seaborn-colorblind')"
   ]
  },
  {
   "cell_type": "code",
   "execution_count": 2,
   "metadata": {
    "colab": {
     "autoexec": {
      "startup": false,
      "wait_interval": 0
     }
    },
    "colab_type": "code",
    "id": "kW9Klkjzogvp"
   },
   "outputs": [],
   "source": [
    "N_SIDS = 100 # number of different SIDs to consider (by importance)\n",
    "N_EPOCH = 10000 # number of epochs in the LSTM training\n",
    "N_NEURONS = 50 # number of LSTM cells in the input layer"
   ]
  },
  {
   "cell_type": "markdown",
   "metadata": {
    "colab_type": "text",
    "id": "gwUFJgigpSOk"
   },
   "source": [
    "## Data lookup\n",
    "Data is in a format with **truncated lines and inverted features** compared to raw snort fast alerts."
   ]
  },
  {
   "cell_type": "markdown",
   "metadata": {
    "colab_type": "text",
    "id": "j-XWvDkNuVza"
   },
   "source": [
    "### Raw data"
   ]
  },
  {
   "cell_type": "code",
   "execution_count": 3,
   "metadata": {
    "colab": {
     "autoexec": {
      "startup": false,
      "wait_interval": 0
     }
    },
    "colab_type": "code",
    "id": "j7C8C1Y0uXau"
   },
   "outputs": [],
   "source": [
    "raw_data_list = []\n",
    "\n",
    "with open('../data/data_capture_from_NSA', 'r') as raw_data:\n",
    "    for line in raw_data:\n",
    "        raw_data_list.append(line.rstrip())"
   ]
  },
  {
   "cell_type": "code",
   "execution_count": 4,
   "metadata": {
    "colab": {
     "autoexec": {
      "startup": false,
      "wait_interval": 0
     },
     "base_uri": "https://localhost:8080/",
     "height": 102,
     "output_extras": [
      {
       "item_id": 1
      }
     ]
    },
    "colab_type": "code",
    "executionInfo": {
     "elapsed": 395,
     "status": "ok",
     "timestamp": 1519562268657,
     "user": {
      "displayName": "Marc Molina",
      "photoUrl": "//lh5.googleusercontent.com/-dIBDSoYoRMc/AAAAAAAAAAI/AAAAAAAAANY/zZrXCrUi6mc/s50-c-k-no/photo.jpg",
      "userId": "107702413150327127433"
     },
     "user_tz": -60
    },
    "id": "KCl--uFwu0Ph",
    "outputId": "cfd9a5e3-0377-4ba6-d217-f175eee7107a"
   },
   "outputs": [
    {
     "name": "stdout",
     "output_type": "stream",
     "text": [
      "['[**] [129:4:1] TCP Timestamp is outside of PAWS window [**]',\n",
      " '[Priority: 3]',\n",
      " '11/08-09:43:09.173299 10.1.60.203:57764 -> 7.204.241.161:25',\n",
      " 'TCP TTL:63 TOS:0x0 ID:51372 IpLen:20 DgmLen:40 DF',\n",
      " '*****R** Seq: 0x787AFC70  Ack: 0x0  Win: 0x0  TcpLen: 20']\n"
     ]
    }
   ],
   "source": [
    "pprint.pprint(raw_data_list[:5])"
   ]
  },
  {
   "cell_type": "markdown",
   "metadata": {
    "colab_type": "text",
    "id": "68WwO-dWu-1C"
   },
   "source": [
    "## Data cleaning\n",
    "Data is reformated to **true snort fast alerts**."
   ]
  },
  {
   "cell_type": "code",
   "execution_count": 5,
   "metadata": {
    "colab": {
     "autoexec": {
      "startup": false,
      "wait_interval": 0
     }
    },
    "colab_type": "code",
    "id": "gDX1Q6E0vBN9"
   },
   "outputs": [],
   "source": [
    "tmp_data_list = []\n",
    "tmp_line = ''\n",
    "\n",
    "for line in raw_data_list:\n",
    "    if line != '':\n",
    "        tmp_line += ' ' + line\n",
    "    else:\n",
    "        tmp_data_list.append(tmp_line[1:-1])\n",
    "        tmp_line = ''"
   ]
  },
  {
   "cell_type": "code",
   "execution_count": 6,
   "metadata": {
    "colab": {
     "autoexec": {
      "startup": false,
      "wait_interval": 0
     },
     "base_uri": "https://localhost:8080/",
     "height": 85,
     "output_extras": [
      {
       "item_id": 1
      }
     ]
    },
    "colab_type": "code",
    "executionInfo": {
     "elapsed": 414,
     "status": "ok",
     "timestamp": 1519562270200,
     "user": {
      "displayName": "Marc Molina",
      "photoUrl": "//lh5.googleusercontent.com/-dIBDSoYoRMc/AAAAAAAAAAI/AAAAAAAAANY/zZrXCrUi6mc/s50-c-k-no/photo.jpg",
      "userId": "107702413150327127433"
     },
     "user_tz": -60
    },
    "id": "BwlW-TTevJwd",
    "outputId": "075c59a7-6b82-4523-bf5e-92b2313443d1"
   },
   "outputs": [
    {
     "name": "stdout",
     "output_type": "stream",
     "text": [
      "('[**] [129:4:1] TCP Timestamp is outside of PAWS window [**] [Priority: 3] '\n",
      " '11/08-09:43:09.173299 10.1.60.203:57764 -> 7.204.241.161:25 TCP TTL:63 '\n",
      " 'TOS:0x0 ID:51372 IpLen:20 DgmLen:40 DF *****R** Seq: 0x787AFC70  Ack: 0x0  '\n",
      " 'Win: 0x0  TcpLen: 2')\n"
     ]
    }
   ],
   "source": [
    "pprint.pprint(tmp_data_list[0])"
   ]
  },
  {
   "cell_type": "code",
   "execution_count": 7,
   "metadata": {
    "colab": {
     "autoexec": {
      "startup": false,
      "wait_interval": 0
     }
    },
    "colab_type": "code",
    "id": "gKa7xyeUvKXC"
   },
   "outputs": [],
   "source": [
    "cleaned_data_list = []\n",
    "\n",
    "tmp_pattern = re.compile(r\"(.*) (\\d{2}/\\d{2}\\-\\d{2}:\\d{2}:\\d{2}\\.\\d{6}) (.*)\")\n",
    "for line in tmp_data_list:\n",
    "    tmp = tmp_pattern.match(line)\n",
    "    if tmp:\n",
    "        cleaned_data_list.append(tmp.group(2) + ' ' + tmp.group(1) + ' ' + tmp.group(3))"
   ]
  },
  {
   "cell_type": "code",
   "execution_count": 8,
   "metadata": {
    "colab": {
     "autoexec": {
      "startup": false,
      "wait_interval": 0
     },
     "base_uri": "https://localhost:8080/",
     "height": 85,
     "output_extras": [
      {
       "item_id": 1
      }
     ]
    },
    "colab_type": "code",
    "executionInfo": {
     "elapsed": 412,
     "status": "ok",
     "timestamp": 1519562272041,
     "user": {
      "displayName": "Marc Molina",
      "photoUrl": "//lh5.googleusercontent.com/-dIBDSoYoRMc/AAAAAAAAAAI/AAAAAAAAANY/zZrXCrUi6mc/s50-c-k-no/photo.jpg",
      "userId": "107702413150327127433"
     },
     "user_tz": -60
    },
    "id": "tZ_4-8-OvbdT",
    "outputId": "ab3e4286-81c9-4751-c870-70e784446a28"
   },
   "outputs": [
    {
     "name": "stdout",
     "output_type": "stream",
     "text": [
      "('11/08-09:43:09.173299 [**] [129:4:1] TCP Timestamp is outside of PAWS window '\n",
      " '[**] [Priority: 3] 10.1.60.203:57764 -> 7.204.241.161:25 TCP TTL:63 TOS:0x0 '\n",
      " 'ID:51372 IpLen:20 DgmLen:40 DF *****R** Seq: 0x787AFC70  Ack: 0x0  Win: 0x0  '\n",
      " 'TcpLen: 2')\n"
     ]
    }
   ],
   "source": [
    "pprint.pprint(cleaned_data_list[0])"
   ]
  },
  {
   "cell_type": "markdown",
   "metadata": {
    "colab_type": "text",
    "id": "gltIxps7vhdy"
   },
   "source": [
    "## Data preparation\n",
    "The purpose of this part is to format features and look at data repartition among features of the alerts."
   ]
  },
  {
   "cell_type": "code",
   "execution_count": 9,
   "metadata": {
    "colab": {
     "autoexec": {
      "startup": false,
      "wait_interval": 0
     }
    },
    "colab_type": "code",
    "id": "trr2uxlgvjin"
   },
   "outputs": [],
   "source": [
    "snort_list = []\n",
    "\n",
    "# date, generator id (gid), snort id (sid), revision number (rev), description, classification, priority, source ip, source port, destination ip, destination port\n",
    "snort_pattern = re.compile(r\"(?P<date>\\d{2}/\\d{2}\\-\\d{2}:\\d{2}:\\d{2}\\.\\d{6}) \\[\\*\\*\\] \\[(?P<gid>\\d+):(?P<sid>\\d+):(?P<rev>\\d+)\\] (?P<description>.*?) \\[\\*\\*\\]\\ (?:\\[Classification: (?P<classification>.*?)\\] )?\\[Priority: (?P<priority>\\d+)\\] (?P<ipsrc>(?:\\d+\\.){3}\\d+)(?::(?P<psrc>\\d+))? -> (?P<ipdst>(?:\\d+\\.){3}\\d+)(?::(?P<pdst>\\d+))? .*\")\n",
    "for line in cleaned_data_list:\n",
    "    matched_line = snort_pattern.match(line)\n",
    "    if matched_line:\n",
    "        snort_list.append([parse(matched_line.group('date')), matched_line.group('gid'), matched_line.group('sid'), matched_line.group('rev'), matched_line.group('description'), matched_line.group('classification'), matched_line.group('priority'), matched_line.group('ipsrc'), matched_line.group('psrc'), matched_line.group('ipdst'), matched_line.group('pdst')])\n",
    "\n",
    "columns = ['Date', 'GID', 'SID', 'Rev', 'Description', 'Classification', 'Priority', 'IPsrc', 'Psrc', 'IPdst', 'Pdst']     \n",
    "snort_df = pd.DataFrame(snort_list, columns=columns).sort_values(by='Date')"
   ]
  },
  {
   "cell_type": "code",
   "execution_count": 10,
   "metadata": {
    "colab": {
     "autoexec": {
      "startup": false,
      "wait_interval": 0
     },
     "base_uri": "https://localhost:8080/",
     "height": 204,
     "output_extras": [
      {
       "item_id": 1
      }
     ]
    },
    "colab_type": "code",
    "executionInfo": {
     "elapsed": 435,
     "status": "ok",
     "timestamp": 1519562275898,
     "user": {
      "displayName": "Marc Molina",
      "photoUrl": "//lh5.googleusercontent.com/-dIBDSoYoRMc/AAAAAAAAAAI/AAAAAAAAANY/zZrXCrUi6mc/s50-c-k-no/photo.jpg",
      "userId": "107702413150327127433"
     },
     "user_tz": -60
    },
    "id": "JCmU_q0_wKCt",
    "outputId": "27bc3357-78ab-4443-a5e8-fe298e049701"
   },
   "outputs": [
    {
     "data": {
      "text/html": [
       "<div>\n",
       "<style scoped>\n",
       "    .dataframe tbody tr th:only-of-type {\n",
       "        vertical-align: middle;\n",
       "    }\n",
       "\n",
       "    .dataframe tbody tr th {\n",
       "        vertical-align: top;\n",
       "    }\n",
       "\n",
       "    .dataframe thead th {\n",
       "        text-align: right;\n",
       "    }\n",
       "</style>\n",
       "<table border=\"1\" class=\"dataframe\">\n",
       "  <thead>\n",
       "    <tr style=\"text-align: right;\">\n",
       "      <th></th>\n",
       "      <th>Date</th>\n",
       "      <th>GID</th>\n",
       "      <th>SID</th>\n",
       "      <th>Rev</th>\n",
       "      <th>Description</th>\n",
       "      <th>Classification</th>\n",
       "      <th>Priority</th>\n",
       "      <th>IPsrc</th>\n",
       "      <th>Psrc</th>\n",
       "      <th>IPdst</th>\n",
       "      <th>Pdst</th>\n",
       "    </tr>\n",
       "  </thead>\n",
       "  <tbody>\n",
       "    <tr>\n",
       "      <th>0</th>\n",
       "      <td>2020-11-08 09:43:09.173299</td>\n",
       "      <td>129</td>\n",
       "      <td>4</td>\n",
       "      <td>1</td>\n",
       "      <td>TCP Timestamp is outside of PAWS window</td>\n",
       "      <td>None</td>\n",
       "      <td>3</td>\n",
       "      <td>10.1.60.203</td>\n",
       "      <td>57764</td>\n",
       "      <td>7.204.241.161</td>\n",
       "      <td>25</td>\n",
       "    </tr>\n",
       "    <tr>\n",
       "      <th>1</th>\n",
       "      <td>2020-11-08 09:45:54.394828</td>\n",
       "      <td>129</td>\n",
       "      <td>4</td>\n",
       "      <td>1</td>\n",
       "      <td>TCP Timestamp is outside of PAWS window</td>\n",
       "      <td>None</td>\n",
       "      <td>3</td>\n",
       "      <td>7.204.241.161</td>\n",
       "      <td>25</td>\n",
       "      <td>10.1.60.203</td>\n",
       "      <td>50176</td>\n",
       "    </tr>\n",
       "    <tr>\n",
       "      <th>2</th>\n",
       "      <td>2020-11-08 09:45:54.395078</td>\n",
       "      <td>129</td>\n",
       "      <td>4</td>\n",
       "      <td>1</td>\n",
       "      <td>TCP Timestamp is outside of PAWS window</td>\n",
       "      <td>None</td>\n",
       "      <td>3</td>\n",
       "      <td>7.204.241.161</td>\n",
       "      <td>25</td>\n",
       "      <td>10.1.60.203</td>\n",
       "      <td>50176</td>\n",
       "    </tr>\n",
       "    <tr>\n",
       "      <th>3</th>\n",
       "      <td>2020-11-08 09:47:02.322926</td>\n",
       "      <td>129</td>\n",
       "      <td>4</td>\n",
       "      <td>1</td>\n",
       "      <td>TCP Timestamp is outside of PAWS window</td>\n",
       "      <td>None</td>\n",
       "      <td>3</td>\n",
       "      <td>154.241.88.201</td>\n",
       "      <td>80</td>\n",
       "      <td>3.75.190.181</td>\n",
       "      <td>60708</td>\n",
       "    </tr>\n",
       "    <tr>\n",
       "      <th>4</th>\n",
       "      <td>2020-11-08 09:47:02.323457</td>\n",
       "      <td>129</td>\n",
       "      <td>4</td>\n",
       "      <td>1</td>\n",
       "      <td>TCP Timestamp is outside of PAWS window</td>\n",
       "      <td>None</td>\n",
       "      <td>3</td>\n",
       "      <td>154.241.88.201</td>\n",
       "      <td>80</td>\n",
       "      <td>3.75.190.181</td>\n",
       "      <td>60708</td>\n",
       "    </tr>\n",
       "  </tbody>\n",
       "</table>\n",
       "</div>"
      ],
      "text/plain": [
       "                        Date  GID SID Rev  \\\n",
       "0 2020-11-08 09:43:09.173299  129   4   1   \n",
       "1 2020-11-08 09:45:54.394828  129   4   1   \n",
       "2 2020-11-08 09:45:54.395078  129   4   1   \n",
       "3 2020-11-08 09:47:02.322926  129   4   1   \n",
       "4 2020-11-08 09:47:02.323457  129   4   1   \n",
       "\n",
       "                               Description Classification Priority  \\\n",
       "0  TCP Timestamp is outside of PAWS window           None        3   \n",
       "1  TCP Timestamp is outside of PAWS window           None        3   \n",
       "2  TCP Timestamp is outside of PAWS window           None        3   \n",
       "3  TCP Timestamp is outside of PAWS window           None        3   \n",
       "4  TCP Timestamp is outside of PAWS window           None        3   \n",
       "\n",
       "            IPsrc   Psrc          IPdst   Pdst  \n",
       "0     10.1.60.203  57764  7.204.241.161     25  \n",
       "1   7.204.241.161     25    10.1.60.203  50176  \n",
       "2   7.204.241.161     25    10.1.60.203  50176  \n",
       "3  154.241.88.201     80   3.75.190.181  60708  \n",
       "4  154.241.88.201     80   3.75.190.181  60708  "
      ]
     },
     "execution_count": 10,
     "metadata": {},
     "output_type": "execute_result"
    }
   ],
   "source": [
    "snort_df.head()"
   ]
  },
  {
   "cell_type": "code",
   "execution_count": 11,
   "metadata": {
    "colab": {
     "autoexec": {
      "startup": false,
      "wait_interval": 0
     },
     "base_uri": "https://localhost:8080/",
     "height": 235,
     "output_extras": [
      {
       "item_id": 1
      }
     ]
    },
    "colab_type": "code",
    "executionInfo": {
     "elapsed": 400,
     "status": "ok",
     "timestamp": 1519562276606,
     "user": {
      "displayName": "Marc Molina",
      "photoUrl": "//lh5.googleusercontent.com/-dIBDSoYoRMc/AAAAAAAAAAI/AAAAAAAAANY/zZrXCrUi6mc/s50-c-k-no/photo.jpg",
      "userId": "107702413150327127433"
     },
     "user_tz": -60
    },
    "id": "yLI3HkVIwLeh",
    "outputId": "16386641-c8bd-433d-ab36-99a8d71cdd09"
   },
   "outputs": [
    {
     "data": {
      "text/html": [
       "<div>\n",
       "<style scoped>\n",
       "    .dataframe tbody tr th:only-of-type {\n",
       "        vertical-align: middle;\n",
       "    }\n",
       "\n",
       "    .dataframe tbody tr th {\n",
       "        vertical-align: top;\n",
       "    }\n",
       "\n",
       "    .dataframe thead th {\n",
       "        text-align: right;\n",
       "    }\n",
       "</style>\n",
       "<table border=\"1\" class=\"dataframe\">\n",
       "  <thead>\n",
       "    <tr style=\"text-align: right;\">\n",
       "      <th></th>\n",
       "      <th>Date</th>\n",
       "      <th>GID</th>\n",
       "      <th>SID</th>\n",
       "      <th>Rev</th>\n",
       "      <th>Description</th>\n",
       "      <th>Classification</th>\n",
       "      <th>Priority</th>\n",
       "      <th>IPsrc</th>\n",
       "      <th>Psrc</th>\n",
       "      <th>IPdst</th>\n",
       "      <th>Pdst</th>\n",
       "    </tr>\n",
       "  </thead>\n",
       "  <tbody>\n",
       "    <tr>\n",
       "      <th>count</th>\n",
       "      <td>25741</td>\n",
       "      <td>25741</td>\n",
       "      <td>25741</td>\n",
       "      <td>25741</td>\n",
       "      <td>25741</td>\n",
       "      <td>18602</td>\n",
       "      <td>25741</td>\n",
       "      <td>25741</td>\n",
       "      <td>23299</td>\n",
       "      <td>25741</td>\n",
       "      <td>23299</td>\n",
       "    </tr>\n",
       "    <tr>\n",
       "      <th>unique</th>\n",
       "      <td>20692</td>\n",
       "      <td>6</td>\n",
       "      <td>644</td>\n",
       "      <td>21</td>\n",
       "      <td>656</td>\n",
       "      <td>13</td>\n",
       "      <td>3</td>\n",
       "      <td>348</td>\n",
       "      <td>10445</td>\n",
       "      <td>30</td>\n",
       "      <td>843</td>\n",
       "    </tr>\n",
       "    <tr>\n",
       "      <th>top</th>\n",
       "      <td>2020-11-10 09:55:29.375298</td>\n",
       "      <td>1</td>\n",
       "      <td>2002677</td>\n",
       "      <td>4</td>\n",
       "      <td>ET SCAN Nikto Web App Scan in Progress</td>\n",
       "      <td>Web Application Attack</td>\n",
       "      <td>1</td>\n",
       "      <td>10.2.197.245</td>\n",
       "      <td>8014</td>\n",
       "      <td>154.241.88.201</td>\n",
       "      <td>80</td>\n",
       "    </tr>\n",
       "    <tr>\n",
       "      <th>freq</th>\n",
       "      <td>5</td>\n",
       "      <td>18602</td>\n",
       "      <td>6029</td>\n",
       "      <td>8100</td>\n",
       "      <td>6029</td>\n",
       "      <td>8550</td>\n",
       "      <td>11076</td>\n",
       "      <td>6282</td>\n",
       "      <td>482</td>\n",
       "      <td>20584</td>\n",
       "      <td>19734</td>\n",
       "    </tr>\n",
       "    <tr>\n",
       "      <th>first</th>\n",
       "      <td>2020-11-08 09:43:09.173299</td>\n",
       "      <td>NaN</td>\n",
       "      <td>NaN</td>\n",
       "      <td>NaN</td>\n",
       "      <td>NaN</td>\n",
       "      <td>NaN</td>\n",
       "      <td>NaN</td>\n",
       "      <td>NaN</td>\n",
       "      <td>NaN</td>\n",
       "      <td>NaN</td>\n",
       "      <td>NaN</td>\n",
       "    </tr>\n",
       "    <tr>\n",
       "      <th>last</th>\n",
       "      <td>2020-11-12 05:32:05.096474</td>\n",
       "      <td>NaN</td>\n",
       "      <td>NaN</td>\n",
       "      <td>NaN</td>\n",
       "      <td>NaN</td>\n",
       "      <td>NaN</td>\n",
       "      <td>NaN</td>\n",
       "      <td>NaN</td>\n",
       "      <td>NaN</td>\n",
       "      <td>NaN</td>\n",
       "      <td>NaN</td>\n",
       "    </tr>\n",
       "  </tbody>\n",
       "</table>\n",
       "</div>"
      ],
      "text/plain": [
       "                              Date    GID      SID    Rev  \\\n",
       "count                        25741  25741    25741  25741   \n",
       "unique                       20692      6      644     21   \n",
       "top     2020-11-10 09:55:29.375298      1  2002677      4   \n",
       "freq                             5  18602     6029   8100   \n",
       "first   2020-11-08 09:43:09.173299    NaN      NaN    NaN   \n",
       "last    2020-11-12 05:32:05.096474    NaN      NaN    NaN   \n",
       "\n",
       "                                   Description          Classification  \\\n",
       "count                                    25741                   18602   \n",
       "unique                                     656                      13   \n",
       "top     ET SCAN Nikto Web App Scan in Progress  Web Application Attack   \n",
       "freq                                      6029                    8550   \n",
       "first                                      NaN                     NaN   \n",
       "last                                       NaN                     NaN   \n",
       "\n",
       "       Priority         IPsrc   Psrc           IPdst   Pdst  \n",
       "count     25741         25741  23299           25741  23299  \n",
       "unique        3           348  10445              30    843  \n",
       "top           1  10.2.197.245   8014  154.241.88.201     80  \n",
       "freq      11076          6282    482           20584  19734  \n",
       "first       NaN           NaN    NaN             NaN    NaN  \n",
       "last        NaN           NaN    NaN             NaN    NaN  "
      ]
     },
     "execution_count": 11,
     "metadata": {},
     "output_type": "execute_result"
    }
   ],
   "source": [
    "snort_df.describe()"
   ]
  },
  {
   "cell_type": "markdown",
   "metadata": {
    "colab_type": "text",
    "id": "aLI-rQxFwg1F"
   },
   "source": [
    "## Data modeling"
   ]
  },
  {
   "cell_type": "code",
   "execution_count": 12,
   "metadata": {
    "colab": {
     "autoexec": {
      "startup": false,
      "wait_interval": 0
     }
    },
    "colab_type": "code",
    "id": "cBp59c5FwjIT"
   },
   "outputs": [],
   "source": [
    "frequency = 'D'\n",
    "grouper = pd.Grouper(key='Date', freq=frequency)\n",
    "grouped_snort_df = snort_df[['Date', 'SID']].groupby([grouper, 'SID'])['SID'].count().unstack(level=1).fillna(0)\n",
    "    \n",
    "if grouped_snort_df.shape[0] < 100:\n",
    "    frequency = 'H'\n",
    "    grouper = pd.Grouper(key='Date', freq=frequency)\n",
    "    grouped_snort_df = snort_df[['Date', 'SID']].groupby([grouper, 'SID'])['SID'].count().unstack(level=1).fillna(0)"
   ]
  },
  {
   "cell_type": "code",
   "execution_count": 13,
   "metadata": {
    "colab": {
     "autoexec": {
      "startup": false,
      "wait_interval": 0
     },
     "base_uri": "https://localhost:8080/",
     "height": 291,
     "output_extras": [
      {
       "item_id": 1
      }
     ]
    },
    "colab_type": "code",
    "executionInfo": {
     "elapsed": 3030,
     "status": "ok",
     "timestamp": 1519562280534,
     "user": {
      "displayName": "Marc Molina",
      "photoUrl": "//lh5.googleusercontent.com/-dIBDSoYoRMc/AAAAAAAAAAI/AAAAAAAAANY/zZrXCrUi6mc/s50-c-k-no/photo.jpg",
      "userId": "107702413150327127433"
     },
     "user_tz": -60
    },
    "id": "9Hu4xIqjwxhE",
    "outputId": "352b717d-8fa6-40ed-a744-8eaab419e06b"
   },
   "outputs": [
    {
     "data": {
      "image/png": "[encoded data removed]",
      "text/plain": [
       "<Figure size 1152x288 with 1 Axes>"
      ]
     },
     "metadata": {
      "needs_background": "light"
     },
     "output_type": "display_data"
    }
   ],
   "source": [
    "fig, ax = plt.subplots(figsize=(16,4))\n",
    "grouped_snort_df.plot(ax=ax, legend=False)\n",
    "plt.title('Timeseries per SID (logarithmic scale)')\n",
    "ax.set_yscale('log')\n",
    "plt.show()"
   ]
  },
  {
   "cell_type": "markdown",
   "metadata": {
    "colab_type": "text",
    "id": "RNg36pzXxDZg"
   },
   "source": [
    "### Modeling the top alerts\n",
    "Here we're modeling timeseries for the most frequent alerts in the dataset (defined by `N_SIDS`) to reduce compute time (more is better)."
   ]
  },
  {
   "cell_type": "code",
   "execution_count": 14,
   "metadata": {
    "colab": {
     "autoexec": {
      "startup": false,
      "wait_interval": 0
     }
    },
    "colab_type": "code",
    "id": "wkP0NYM5xGIc"
   },
   "outputs": [],
   "source": [
    "top_sids = pd.DataFrame(sorted(Counter(snort_df['SID']).items(), key=lambda x:x[1]), columns=['SID', '#']).nlargest(N_SIDS,'#')['SID'].tolist()\n",
    "top_snort_df = snort_df[snort_df['SID'].isin(top_sids)][['Date', 'SID']].groupby([grouper, 'SID'])['SID'].count().unstack(level=1).fillna(0)"
   ]
  },
  {
   "cell_type": "code",
   "execution_count": 15,
   "metadata": {
    "colab": {
     "autoexec": {
      "startup": false,
      "wait_interval": 0
     },
     "base_uri": "https://localhost:8080/",
     "height": 291,
     "output_extras": [
      {
       "item_id": 1
      }
     ]
    },
    "colab_type": "code",
    "executionInfo": {
     "elapsed": 1484,
     "status": "ok",
     "timestamp": 1519562282923,
     "user": {
      "displayName": "Marc Molina",
      "photoUrl": "//lh5.googleusercontent.com/-dIBDSoYoRMc/AAAAAAAAAAI/AAAAAAAAANY/zZrXCrUi6mc/s50-c-k-no/photo.jpg",
      "userId": "107702413150327127433"
     },
     "user_tz": -60
    },
    "id": "QcA0Rw4WxNAP",
    "outputId": "18f29950-6762-4ae9-ea2a-c2fc881d2afd"
   },
   "outputs": [
    {
     "data": {
      "image/png": "[encoded data removed]",
      "text/plain": [
       "<Figure size 1152x288 with 1 Axes>"
      ]
     },
     "metadata": {
      "needs_background": "light"
     },
     "output_type": "display_data"
    }
   ],
   "source": [
    "fig, ax = plt.subplots(figsize=(16,4))\n",
    "top_snort_df.plot(ax=ax, legend=False)\n",
    "plt.title('TOP ' + str(N_SIDS) + ' of timeseries per SID (logarithmic scale)')\n",
    "ax.set_yscale('log')\n",
    "plt.show()"
   ]
  },
  {
   "cell_type": "code",
   "execution_count": 16,
   "metadata": {
    "colab": {
     "autoexec": {
      "startup": false,
      "wait_interval": 0
     }
    },
    "colab_type": "code",
    "id": "knXbAx3bxRmJ"
   },
   "outputs": [],
   "source": [
    "train_snort_df, test_snort_df = np.split(top_snort_df, [int(0.5 * top_snort_df.shape[0]) + 1])"
   ]
  },
  {
   "cell_type": "markdown",
   "metadata": {
    "colab_type": "text",
    "id": "tdO08ZgxyFoq"
   },
   "source": [
    "## Prediction\n",
    "Alert flows are modeled as aggregated signals per SID predicted by a LSTM neural network."
   ]
  },
  {
   "cell_type": "markdown",
   "metadata": {
    "colab_type": "text",
    "id": "sqGBNOpGyK_a"
   },
   "source": [
    "### LSTM"
   ]
  },
  {
   "cell_type": "markdown",
   "metadata": {
    "colab_type": "text",
    "id": "n3FNe9SoyPPY"
   },
   "source": [
    "#### Time Series to Supervised Learning"
   ]
  },
  {
   "cell_type": "code",
   "execution_count": 17,
   "metadata": {
    "colab": {
     "autoexec": {
      "startup": false,
      "wait_interval": 0
     }
    },
    "colab_type": "code",
    "id": "CkLPQYoqyDJM"
   },
   "outputs": [],
   "source": [
    "def series_to_supervised(data, sids, n_in=1, n_out=1, dropnan=True):\n",
    "    \"\"\"\n",
    "    Builds a couple of vectors (X,y) with X: input, y: expected output.\n",
    "    :param data: X\n",
    "    :param sids: list of SIDs to include\n",
    "    :param n_in: input offset\n",
    "    :param n_out: output offset\n",
    "    :param dropnan: drop incomplete data\n",
    "    :return: couple of vectors (X,y) with X: input, y: expected output\n",
    "    \"\"\"\n",
    "    prefix = sids + sids\n",
    "    n_vars = 1 if type(data) is list else data.shape[1]\n",
    "    df = pd.DataFrame(data)\n",
    "    cols, names = list(), list()\n",
    "    # input sequence (t-n, ..., t-1)\n",
    "    for i in range(n_in, 0, -1):\n",
    "        cols.append(df.shift(i))\n",
    "        names += [(prefix[j+1] + '(t-%d)' % i) for j in range(n_vars)]\n",
    "    # forecast sequence (t, t+1, ..., t+n)\n",
    "    for i in range(0, n_out):\n",
    "        cols.append(df.shift(-i))\n",
    "        if i == 0:\n",
    "            names += [(prefix[j+1] + '(t)') for j in range(n_vars)]\n",
    "        else:\n",
    "            names += [(prefix[j+1] + '(t+%d)' % i) for j in range(n_vars)]\n",
    "    agg = pd.concat(cols, axis=1)\n",
    "    agg.columns = names\n",
    "    if dropnan:\n",
    "        agg.dropna(inplace=True)\n",
    "    return agg"
   ]
  },
  {
   "cell_type": "markdown",
   "metadata": {
    "colab_type": "text",
    "id": "QMA1KGjsyopD"
   },
   "source": [
    "#### Time Series to Scale"
   ]
  },
  {
   "cell_type": "code",
   "execution_count": 18,
   "metadata": {
    "colab": {
     "autoexec": {
      "startup": false,
      "wait_interval": 0
     }
    },
    "colab_type": "code",
    "id": "ApGVyLkXyi32"
   },
   "outputs": [],
   "source": [
    " def scale(values):\n",
    "    \"\"\"\n",
    "    Scales values between 0 and 1 for the activation function.\n",
    "    :param values: values to scale\n",
    "    :return: scaled values between 0 and 1\n",
    "    \"\"\"\n",
    "    scaler = MinMaxScaler(feature_range=(0, 1))\n",
    "    scaled = scaler.fit_transform(values)\n",
    "    \n",
    "    return scaler, scaled"
   ]
  },
  {
   "cell_type": "markdown",
   "metadata": {
    "colab_type": "text",
    "id": "S0ovXbnhyz3S"
   },
   "source": [
    "#### LSTM model"
   ]
  },
  {
   "cell_type": "code",
   "execution_count": 19,
   "metadata": {
    "colab": {
     "autoexec": {
      "startup": false,
      "wait_interval": 0
     }
    },
    "colab_type": "code",
    "id": "78QzeJ9Ky0ad"
   },
   "outputs": [],
   "source": [
    "def fit_lstm(train_X, train_y, nb_epoch, neurons=10):\n",
    "    \"\"\"\n",
    "    Trains an LSTM network on training data.\n",
    "    :param train_X: training data\n",
    "    :param train_y: training data\n",
    "    :param nb_epoch: nb_epoch for the LSTM function\n",
    "    :param neurons: neurons for the LSTM function\n",
    "    :return: learned LSTM model\n",
    "    \"\"\"\n",
    "    model = Sequential()\n",
    "    model.add(LSTM(neurons, input_shape=(train_X.shape[1], train_X.shape[2])))\n",
    "    model.add(Dense(train_X.shape[2]))\n",
    "    model.compile(loss='mae', optimizer='adam')\n",
    "    \n",
    "    history = model.fit(train_X, train_y, epochs=nb_epoch, batch_size=72, validation_data=(train_X, train_y), verbose=0, shuffle=False)\n",
    "    \n",
    "    return history, model"
   ]
  },
  {
   "cell_type": "markdown",
   "metadata": {
    "colab_type": "text",
    "id": "_B8GGYgrzCUL"
   },
   "source": [
    "#### Prediction"
   ]
  },
  {
   "cell_type": "code",
   "execution_count": 20,
   "metadata": {
    "colab": {
     "autoexec": {
      "startup": false,
      "wait_interval": 0
     },
     "base_uri": "https://localhost:8080/",
     "height": 270,
     "output_extras": [
      {
       "item_id": 1
      }
     ]
    },
    "colab_type": "code",
    "executionInfo": {
     "elapsed": 402,
     "status": "ok",
     "timestamp": 1519562286137,
     "user": {
      "displayName": "Marc Molina",
      "photoUrl": "//lh5.googleusercontent.com/-dIBDSoYoRMc/AAAAAAAAAAI/AAAAAAAAANY/zZrXCrUi6mc/s50-c-k-no/photo.jpg",
      "userId": "107702413150327127433"
     },
     "user_tz": -60
    },
    "id": "jyc6f0jYy-UD",
    "outputId": "b2cd4e91-65ae-4bf6-e931-ab42a18cd276"
   },
   "outputs": [
    {
     "data": {
      "text/html": [
       "<div>\n",
       "<style scoped>\n",
       "    .dataframe tbody tr th:only-of-type {\n",
       "        vertical-align: middle;\n",
       "    }\n",
       "\n",
       "    .dataframe tbody tr th {\n",
       "        vertical-align: top;\n",
       "    }\n",
       "\n",
       "    .dataframe thead th {\n",
       "        text-align: right;\n",
       "    }\n",
       "</style>\n",
       "<table border=\"1\" class=\"dataframe\">\n",
       "  <thead>\n",
       "    <tr style=\"text-align: right;\">\n",
       "      <th></th>\n",
       "      <th>7(t-1)</th>\n",
       "      <th>4(t-1)</th>\n",
       "      <th>2003099(t-1)</th>\n",
       "      <th>1394(t-1)</th>\n",
       "      <th>2189(t-1)</th>\n",
       "      <th>2007757(t-1)</th>\n",
       "      <th>8(t-1)</th>\n",
       "      <th>3(t-1)</th>\n",
       "      <th>12592(t-1)</th>\n",
       "      <th>7070(t-1)</th>\n",
       "      <th>...</th>\n",
       "      <th>1043(t)</th>\n",
       "      <th>1145(t)</th>\n",
       "      <th>988(t)</th>\n",
       "      <th>1172(t)</th>\n",
       "      <th>962(t)</th>\n",
       "      <th>1165(t)</th>\n",
       "      <th>2008596(t)</th>\n",
       "      <th>1852(t)</th>\n",
       "      <th>2129(t)</th>\n",
       "      <th>2002677(t)</th>\n",
       "    </tr>\n",
       "  </thead>\n",
       "  <tbody>\n",
       "    <tr>\n",
       "      <th>1</th>\n",
       "      <td>0.0</td>\n",
       "      <td>0.000000</td>\n",
       "      <td>0.0</td>\n",
       "      <td>0.0</td>\n",
       "      <td>0.0</td>\n",
       "      <td>0.0</td>\n",
       "      <td>0.0</td>\n",
       "      <td>0.0</td>\n",
       "      <td>0.0</td>\n",
       "      <td>0.0</td>\n",
       "      <td>...</td>\n",
       "      <td>0.0</td>\n",
       "      <td>0.0</td>\n",
       "      <td>0.0</td>\n",
       "      <td>0.0</td>\n",
       "      <td>0.0</td>\n",
       "      <td>0.0</td>\n",
       "      <td>0.0</td>\n",
       "      <td>0.0</td>\n",
       "      <td>0.0</td>\n",
       "      <td>0.0</td>\n",
       "    </tr>\n",
       "    <tr>\n",
       "      <th>2</th>\n",
       "      <td>0.0</td>\n",
       "      <td>0.000000</td>\n",
       "      <td>0.0</td>\n",
       "      <td>0.0</td>\n",
       "      <td>0.0</td>\n",
       "      <td>0.0</td>\n",
       "      <td>0.0</td>\n",
       "      <td>0.0</td>\n",
       "      <td>0.0</td>\n",
       "      <td>0.0</td>\n",
       "      <td>...</td>\n",
       "      <td>0.0</td>\n",
       "      <td>0.0</td>\n",
       "      <td>0.0</td>\n",
       "      <td>0.0</td>\n",
       "      <td>0.0</td>\n",
       "      <td>0.0</td>\n",
       "      <td>0.0</td>\n",
       "      <td>0.0</td>\n",
       "      <td>0.0</td>\n",
       "      <td>0.0</td>\n",
       "    </tr>\n",
       "    <tr>\n",
       "      <th>3</th>\n",
       "      <td>0.0</td>\n",
       "      <td>0.000000</td>\n",
       "      <td>0.0</td>\n",
       "      <td>0.0</td>\n",
       "      <td>0.0</td>\n",
       "      <td>0.0</td>\n",
       "      <td>0.0</td>\n",
       "      <td>0.0</td>\n",
       "      <td>0.0</td>\n",
       "      <td>0.0</td>\n",
       "      <td>...</td>\n",
       "      <td>0.0</td>\n",
       "      <td>0.0</td>\n",
       "      <td>0.0</td>\n",
       "      <td>0.0</td>\n",
       "      <td>0.0</td>\n",
       "      <td>0.0</td>\n",
       "      <td>0.0</td>\n",
       "      <td>0.0</td>\n",
       "      <td>0.0</td>\n",
       "      <td>0.0</td>\n",
       "    </tr>\n",
       "    <tr>\n",
       "      <th>4</th>\n",
       "      <td>0.0</td>\n",
       "      <td>0.000000</td>\n",
       "      <td>0.0</td>\n",
       "      <td>0.0</td>\n",
       "      <td>0.0</td>\n",
       "      <td>0.0</td>\n",
       "      <td>0.0</td>\n",
       "      <td>0.0</td>\n",
       "      <td>0.0</td>\n",
       "      <td>0.0</td>\n",
       "      <td>...</td>\n",
       "      <td>0.0</td>\n",
       "      <td>0.0</td>\n",
       "      <td>0.0</td>\n",
       "      <td>0.0</td>\n",
       "      <td>0.0</td>\n",
       "      <td>0.0</td>\n",
       "      <td>0.0</td>\n",
       "      <td>0.0</td>\n",
       "      <td>0.0</td>\n",
       "      <td>0.2</td>\n",
       "    </tr>\n",
       "    <tr>\n",
       "      <th>5</th>\n",
       "      <td>0.0</td>\n",
       "      <td>0.041667</td>\n",
       "      <td>0.0</td>\n",
       "      <td>0.0</td>\n",
       "      <td>0.0</td>\n",
       "      <td>1.0</td>\n",
       "      <td>0.0</td>\n",
       "      <td>0.0</td>\n",
       "      <td>0.0</td>\n",
       "      <td>0.0</td>\n",
       "      <td>...</td>\n",
       "      <td>0.0</td>\n",
       "      <td>0.0</td>\n",
       "      <td>0.0</td>\n",
       "      <td>0.0</td>\n",
       "      <td>0.0</td>\n",
       "      <td>0.0</td>\n",
       "      <td>0.0</td>\n",
       "      <td>0.0</td>\n",
       "      <td>0.0</td>\n",
       "      <td>0.0</td>\n",
       "    </tr>\n",
       "  </tbody>\n",
       "</table>\n",
       "<p>5 rows × 200 columns</p>\n",
       "</div>"
      ],
      "text/plain": [
       "   7(t-1)    4(t-1)  2003099(t-1)  1394(t-1)  2189(t-1)  2007757(t-1)  8(t-1)  \\\n",
       "1     0.0  0.000000           0.0        0.0        0.0           0.0     0.0   \n",
       "2     0.0  0.000000           0.0        0.0        0.0           0.0     0.0   \n",
       "3     0.0  0.000000           0.0        0.0        0.0           0.0     0.0   \n",
       "4     0.0  0.000000           0.0        0.0        0.0           0.0     0.0   \n",
       "5     0.0  0.041667           0.0        0.0        0.0           1.0     0.0   \n",
       "\n",
       "   3(t-1)  12592(t-1)  7070(t-1)  ...  1043(t)  1145(t)  988(t)  1172(t)  \\\n",
       "1     0.0         0.0        0.0  ...      0.0      0.0     0.0      0.0   \n",
       "2     0.0         0.0        0.0  ...      0.0      0.0     0.0      0.0   \n",
       "3     0.0         0.0        0.0  ...      0.0      0.0     0.0      0.0   \n",
       "4     0.0         0.0        0.0  ...      0.0      0.0     0.0      0.0   \n",
       "5     0.0         0.0        0.0  ...      0.0      0.0     0.0      0.0   \n",
       "\n",
       "   962(t)  1165(t)  2008596(t)  1852(t)  2129(t)  2002677(t)  \n",
       "1     0.0      0.0         0.0      0.0      0.0         0.0  \n",
       "2     0.0      0.0         0.0      0.0      0.0         0.0  \n",
       "3     0.0      0.0         0.0      0.0      0.0         0.0  \n",
       "4     0.0      0.0         0.0      0.0      0.0         0.2  \n",
       "5     0.0      0.0         0.0      0.0      0.0         0.0  \n",
       "\n",
       "[5 rows x 200 columns]"
      ]
     },
     "execution_count": 20,
     "metadata": {},
     "output_type": "execute_result"
    }
   ],
   "source": [
    "scaler, scaled = scale(top_snort_df)\n",
    "reframed = series_to_supervised(scaled, top_sids, 1, 1)\n",
    "reframed.head()"
   ]
  },
  {
   "cell_type": "code",
   "execution_count": 21,
   "metadata": {
    "colab": {
     "autoexec": {
      "startup": false,
      "wait_interval": 0
     },
     "base_uri": "https://localhost:8080/",
     "height": 34,
     "output_extras": [
      {
       "item_id": 1
      }
     ]
    },
    "colab_type": "code",
    "executionInfo": {
     "elapsed": 705,
     "status": "ok",
     "timestamp": 1519562287138,
     "user": {
      "displayName": "Marc Molina",
      "photoUrl": "//lh5.googleusercontent.com/-dIBDSoYoRMc/AAAAAAAAAAI/AAAAAAAAANY/zZrXCrUi6mc/s50-c-k-no/photo.jpg",
      "userId": "107702413150327127433"
     },
     "user_tz": -60
    },
    "id": "FXN1SyBxJThV",
    "outputId": "cfb0ba2e-61c5-45c0-b790-79243f8484a1"
   },
   "outputs": [
    {
     "data": {
      "text/plain": [
       "((40, 1, 100), (40, 100), (38, 1, 100), (38, 100))"
      ]
     },
     "execution_count": 21,
     "metadata": {},
     "output_type": "execute_result"
    }
   ],
   "source": [
    "values = reframed.values\n",
    "train, test = np.split(values, [int(0.5 * values.shape[0]) + 1])\n",
    "train_X, train_y = train[:, :-N_SIDS], train[:, -N_SIDS:]\n",
    "test_X, test_y = test[:, :-N_SIDS], test[:, -N_SIDS:]\n",
    "train_X = train_X.reshape((train_X.shape[0], 1, train_X.shape[1]))\n",
    "test_X = test_X.reshape((test_X.shape[0], 1, test_X.shape[1]))\n",
    "\n",
    "train_X.shape, train_y.shape, test_X.shape, test_y.shape"
   ]
  },
  {
   "cell_type": "code",
   "execution_count": 22,
   "metadata": {
    "colab": {
     "autoexec": {
      "startup": false,
      "wait_interval": 0
     }
    },
    "colab_type": "code",
    "id": "OD8foNIJKb0U"
   },
   "outputs": [],
   "source": [
    "history, lstm_model = fit_lstm(train_X, train_y, N_EPOCH, N_NEURONS)"
   ]
  },
  {
   "cell_type": "code",
   "execution_count": 23,
   "metadata": {
    "colab": {
     "autoexec": {
      "startup": false,
      "wait_interval": 0
     },
     "base_uri": "https://localhost:8080/",
     "height": 265,
     "output_extras": [
      {
       "item_id": 1
      }
     ]
    },
    "colab_type": "code",
    "executionInfo": {
     "elapsed": 805,
     "status": "ok",
     "timestamp": 1519562371438,
     "user": {
      "displayName": "Marc Molina",
      "photoUrl": "//lh5.googleusercontent.com/-dIBDSoYoRMc/AAAAAAAAAAI/AAAAAAAAANY/zZrXCrUi6mc/s50-c-k-no/photo.jpg",
      "userId": "107702413150327127433"
     },
     "user_tz": -60
    },
    "id": "OI_31aI-KeOF",
    "outputId": "24f40d14-6b04-4871-bbf6-9417ce4021eb"
   },
   "outputs": [
    {
     "data": {
      "image/png": "[encoded data removed]",
      "text/plain": [
       "<Figure size 1152x288 with 1 Axes>"
      ]
     },
     "metadata": {
      "needs_background": "light"
     },
     "output_type": "display_data"
    }
   ],
   "source": [
    "pyplot.figure(figsize=(16,4))\n",
    "pyplot.plot(history.history['loss'], label='train')\n",
    "pyplot.plot(history.history['val_loss'], label='test')\n",
    "pyplot.legend()\n",
    "pyplot.show()"
   ]
  },
  {
   "cell_type": "code",
   "execution_count": 24,
   "metadata": {
    "colab": {
     "autoexec": {
      "startup": false,
      "wait_interval": 0
     }
    },
    "colab_type": "code",
    "id": "PqzbxzKCKghQ"
   },
   "outputs": [],
   "source": [
    "yhat = lstm_model.predict(test_X)"
   ]
  },
  {
   "cell_type": "code",
   "execution_count": 25,
   "metadata": {
    "colab": {
     "autoexec": {
      "startup": false,
      "wait_interval": 0
     }
    },
    "colab_type": "code",
    "id": "Lp8kU5UpKmzx"
   },
   "outputs": [],
   "source": [
    "test_X = test_X.reshape((test_X.shape[0], test_X.shape[2]))\n",
    "inv_yhat = scaler.inverse_transform(yhat)\n",
    "inv_y = scaler.inverse_transform(test_y)"
   ]
  },
  {
   "cell_type": "code",
   "execution_count": 26,
   "metadata": {
    "colab": {
     "autoexec": {
      "startup": false,
      "wait_interval": 0
     },
     "base_uri": "https://localhost:8080/",
     "height": 34,
     "output_extras": [
      {
       "item_id": 1
      }
     ]
    },
    "colab_type": "code",
    "executionInfo": {
     "elapsed": 406,
     "status": "ok",
     "timestamp": 1519562374426,
     "user": {
      "displayName": "Marc Molina",
      "photoUrl": "//lh5.googleusercontent.com/-dIBDSoYoRMc/AAAAAAAAAAI/AAAAAAAAANY/zZrXCrUi6mc/s50-c-k-no/photo.jpg",
      "userId": "107702413150327127433"
     },
     "user_tz": -60
    },
    "id": "URraeSuKKoJe",
    "outputId": "84491b02-063e-4c11-e814-555a4b0f99fb"
   },
   "outputs": [
    {
     "name": "stdout",
     "output_type": "stream",
     "text": [
      "RMSE test: 116.379\n"
     ]
    }
   ],
   "source": [
    "rmse = sqrt(mean_squared_error(inv_y, inv_yhat))\n",
    "print('RMSE test: %.3f' % rmse)"
   ]
  },
  {
   "cell_type": "code",
   "execution_count": 27,
   "metadata": {
    "colab": {
     "autoexec": {
      "startup": false,
      "wait_interval": 0
     }
    },
    "colab_type": "code",
    "id": "K7PlPrKeKqhO"
   },
   "outputs": [],
   "source": [
    "y_hat_df = pd.DataFrame(inv_yhat, columns=top_sids).set_index(test_snort_df.index[-inv_yhat.shape[0]:])\n",
    "y_df = pd.DataFrame(inv_y, columns=top_sids).set_index(test_snort_df.index[-inv_yhat.shape[0]:])"
   ]
  },
  {
   "cell_type": "code",
   "execution_count": 28,
   "metadata": {
    "colab": {
     "autoexec": {
      "startup": false,
      "wait_interval": 0
     },
     "base_uri": "https://localhost:8080/",
     "height": 318,
     "output_extras": [
      {
       "item_id": 1
      }
     ]
    },
    "colab_type": "code",
    "executionInfo": {
     "elapsed": 1224,
     "status": "ok",
     "timestamp": 1519562376861,
     "user": {
      "displayName": "Marc Molina",
      "photoUrl": "//lh5.googleusercontent.com/-dIBDSoYoRMc/AAAAAAAAAAI/AAAAAAAAANY/zZrXCrUi6mc/s50-c-k-no/photo.jpg",
      "userId": "107702413150327127433"
     },
     "user_tz": -60
    },
    "id": "fy20u-jzKr_X",
    "outputId": "4eed2973-61d4-43b2-a87d-fdfd1d032d82"
   },
   "outputs": [
    {
     "data": {
      "image/png": "[encoded data removed]",
      "text/plain": [
       "<Figure size 1152x288 with 1 Axes>"
      ]
     },
     "metadata": {
      "needs_background": "light"
     },
     "output_type": "display_data"
    }
   ],
   "source": [
    "y_df.subtract(y_hat_df).abs().plot(figsize=(16,4), legend=False, title=\"Prediction Error\")\n",
    "plt.show()"
   ]
  },
  {
   "cell_type": "markdown",
   "metadata": {
    "colab_type": "text",
    "id": "gXALsUGIKwTo"
   },
   "source": [
    "#### Anomaly detection"
   ]
  },
  {
   "cell_type": "code",
   "execution_count": 29,
   "metadata": {
    "colab": {
     "autoexec": {
      "startup": false,
      "wait_interval": 0
     }
    },
    "colab_type": "code",
    "id": "OfF6lgrgKyGg"
   },
   "outputs": [],
   "source": [
    "def detect_anomalies(test, predictions, frequency):\n",
    "    \"\"\"\n",
    "    Detects anomalies on a test signal.\n",
    "    :param test: data to predict\n",
    "    :param predictions: prediction on test\n",
    "    :param frequency: size of the minimal time window\n",
    "    :return: anomaly windows\n",
    "    \"\"\"\n",
    "    anomalies = {}\n",
    "    errors = test.subtract(predictions)\n",
    "    threshold = errors.mean() + 3 * errors.std()\n",
    "    min_window_size = timedelta(hours=1) if frequency == 'H' else timedelta(days=1)\n",
    "    \n",
    "    for sid in errors:\n",
    "        for idx in errors.index:\n",
    "            if ((not sid in anomalies) or (sid in anomalies and (anomalies[sid][-1][1] < idx))) and (errors[sid].loc[idx] > threshold[sid]):\n",
    "                e = idx + min_window_size\n",
    "                for idx2 in [x for x in errors.index if x > idx]:\n",
    "                    if np.absolute(errors[sid].loc[idx2]) > threshold[sid]:\n",
    "                        e = idx2\n",
    "                    else:\n",
    "                        break\n",
    "                anomalies.setdefault(sid, []).append([idx,e])\n",
    "        \n",
    "        \n",
    "    return anomalies\n",
    "\n",
    "def plot_anomalies(test, anomalies):\n",
    "    \"\"\"\n",
    "    Displays anomaly windows on the test signal.\n",
    "    :param test: data to analyze\n",
    "    :param anomalies: anomaly windows by SID\n",
    "    \"\"\"\n",
    "    fig = plt.figure()\n",
    "    fig.set_size_inches(16, 4)\n",
    "    \n",
    "    plt.title(\"Anomaly detection on NIDS alerts\")\n",
    "    plt.plot(test)\n",
    "    \n",
    "    for key, value in anomalies.items():\n",
    "        for anomaly in value:\n",
    "            plt.axvspan(anomaly[0], anomaly[1], color='red', alpha=0.1)\n",
    "        \n",
    "    plt.show()"
   ]
  },
  {
   "cell_type": "code",
   "execution_count": 30,
   "metadata": {
    "colab": {
     "autoexec": {
      "startup": false,
      "wait_interval": 0
     }
    },
    "colab_type": "code",
    "id": "3ZoIpX-lK6Un"
   },
   "outputs": [],
   "source": [
    "anomalies = detect_anomalies(y_df, y_hat_df, frequency)"
   ]
  },
  {
   "cell_type": "code",
   "execution_count": 31,
   "metadata": {
    "colab": {
     "autoexec": {
      "startup": false,
      "wait_interval": 0
     },
     "base_uri": "https://localhost:8080/",
     "height": 280,
     "output_extras": [
      {
       "item_id": 1
      }
     ]
    },
    "colab_type": "code",
    "executionInfo": {
     "elapsed": 775,
     "status": "ok",
     "timestamp": 1519562393056,
     "user": {
      "displayName": "Marc Molina",
      "photoUrl": "//lh5.googleusercontent.com/-dIBDSoYoRMc/AAAAAAAAAAI/AAAAAAAAANY/zZrXCrUi6mc/s50-c-k-no/photo.jpg",
      "userId": "107702413150327127433"
     },
     "user_tz": -60
    },
    "id": "V3ZqyIbPLDWW",
    "outputId": "0476c8f8-ae1a-4029-a4cc-551b891dfa56"
   },
   "outputs": [
    {
     "data": {
      "image/png": "[encoded data removed]",
      "text/plain": [
       "<Figure size 1152x288 with 1 Axes>"
      ]
     },
     "metadata": {
      "needs_background": "light"
     },
     "output_type": "display_data"
    }
   ],
   "source": [
    "plot_anomalies(y_df, anomalies)"
   ]
  },
  {
   "cell_type": "markdown",
   "metadata": {
    "colab_type": "text",
    "id": "OFMur6HALJ7k"
   },
   "source": [
    "## Meta-alerting on anomalies\n",
    "The purpose of this part is to be able to forge meta-alerts with the knowledge brought by anomaly detection."
   ]
  },
  {
   "cell_type": "code",
   "execution_count": 32,
   "metadata": {
    "colab": {
     "autoexec": {
      "startup": false,
      "wait_interval": 0
     }
    },
    "colab_type": "code",
    "id": "2jNxhfPkLEpM"
   },
   "outputs": [],
   "source": [
    "def join_dfs(ldf, rdf):\n",
    "    \"\"\"\n",
    "    Joins two dataframes.\n",
    "    :param ldf: dataframe 1\n",
    "    :param rdf: dataframe 2\n",
    "    :return: joined dataframe\n",
    "    \"\"\"\n",
    "    return ldf.join(rdf, how='inner')\n",
    "\n",
    "def agg_meta_alerts(alerts_on_anomalies, anomalies):\n",
    "    \"\"\"\n",
    "    Aggregates alerts according to the context defined by anomalies.\n",
    "    :param alerts_on_anomalies: NIDS alerts in anomaly windows\n",
    "    :param anomalies: anomaly windows by SID\n",
    "    :return: meta-alerts in anomaly windows\n",
    "    \"\"\"\n",
    "    alert_dfs = []\n",
    "\n",
    "    for key, value in anomalies.items():\n",
    "        for anomaly in value:\n",
    "            tmp_df = alerts_on_anomalies[(alerts_on_anomalies['Date'] > anomaly[0]) & (alerts_on_anomalies['Date'] < anomaly[1])]\n",
    "            true_alerts = tmp_df.drop(columns=['GID', 'SID', 'Rev', 'Classification']).drop_duplicates()\n",
    "            if not true_alerts.empty: \n",
    "                meta_alerts = true_alerts.groupby(['Description', 'Priority'])\n",
    "                date = pd.DataFrame(meta_alerts['Date'].apply(set))\n",
    "                ip_src = pd.DataFrame(meta_alerts['IPsrc'].apply(set))\n",
    "                p_src = pd.DataFrame(meta_alerts['Psrc'].apply(set))\n",
    "                ip_dst = pd.DataFrame(meta_alerts['IPdst'].apply(set))\n",
    "                p_dst = pd.DataFrame(meta_alerts['Pdst'].apply(set))\n",
    "                alert_dfs.append(reduce(join_dfs, [date, ip_src, p_src, ip_dst, p_dst]))\n",
    "    alert_df = pd.concat(alert_dfs)\n",
    "    \n",
    "    alert_df['Date'] = alert_df['Date'].astype(str)\n",
    "    alert_df['IPsrc'] = alert_df['IPsrc'].astype(str)\n",
    "    alert_df['Psrc'] = alert_df['Psrc'].astype(str)\n",
    "    alert_df['IPdst'] = alert_df['IPdst'].astype(str)\n",
    "    alert_df['Pdst'] = alert_df['Pdst'].astype(str)\n",
    "    \n",
    "    return alert_df.drop_duplicates()"
   ]
  },
  {
   "cell_type": "code",
   "execution_count": 33,
   "metadata": {
    "colab": {
     "autoexec": {
      "startup": false,
      "wait_interval": 0
     }
    },
    "colab_type": "code",
    "id": "dTR7_82XLaDe"
   },
   "outputs": [],
   "source": [
    "meta_alerts = agg_meta_alerts(snort_df, anomalies).sort_index()"
   ]
  },
  {
   "cell_type": "code",
   "execution_count": 34,
   "metadata": {
    "colab": {
     "autoexec": {
      "startup": false,
      "wait_interval": 0
     },
     "base_uri": "https://localhost:8080/",
     "height": 320,
     "output_extras": [
      {
       "item_id": 1
      }
     ]
    },
    "colab_type": "code",
    "executionInfo": {
     "elapsed": 431,
     "status": "ok",
     "timestamp": 1519562395621,
     "user": {
      "displayName": "Marc Molina",
      "photoUrl": "//lh5.googleusercontent.com/-dIBDSoYoRMc/AAAAAAAAAAI/AAAAAAAAANY/zZrXCrUi6mc/s50-c-k-no/photo.jpg",
      "userId": "107702413150327127433"
     },
     "user_tz": -60
    },
    "id": "Sr4wfiDFLce9",
    "outputId": "546526df-cb24-4dc0-b982-e117f3f111a1"
   },
   "outputs": [
    {
     "data": {
      "text/html": [
       "<div>\n",
       "<style scoped>\n",
       "    .dataframe tbody tr th:only-of-type {\n",
       "        vertical-align: middle;\n",
       "    }\n",
       "\n",
       "    .dataframe tbody tr th {\n",
       "        vertical-align: top;\n",
       "    }\n",
       "\n",
       "    .dataframe thead th {\n",
       "        text-align: right;\n",
       "    }\n",
       "</style>\n",
       "<table border=\"1\" class=\"dataframe\">\n",
       "  <thead>\n",
       "    <tr style=\"text-align: right;\">\n",
       "      <th></th>\n",
       "      <th></th>\n",
       "      <th>Date</th>\n",
       "      <th>IPsrc</th>\n",
       "      <th>Psrc</th>\n",
       "      <th>IPdst</th>\n",
       "      <th>Pdst</th>\n",
       "    </tr>\n",
       "    <tr>\n",
       "      <th>Description</th>\n",
       "      <th>Priority</th>\n",
       "      <th></th>\n",
       "      <th></th>\n",
       "      <th></th>\n",
       "      <th></th>\n",
       "      <th></th>\n",
       "    </tr>\n",
       "  </thead>\n",
       "  <tbody>\n",
       "    <tr>\n",
       "      <th>(http_inspect) ANOMALOUS HTTP SERVER ON UNDEFINED HTTP PORT</th>\n",
       "      <th>3</th>\n",
       "      <td>{Timestamp('2020-11-11 16:24:58.169766'), Time...</td>\n",
       "      <td>{'134.240.18.13'}</td>\n",
       "      <td>{'8014'}</td>\n",
       "      <td>{'134.240.12.92', '134.240.12.190'}</td>\n",
       "      <td>{'1825', '1824', '1855', '1875', '1852', '1866...</td>\n",
       "    </tr>\n",
       "    <tr>\n",
       "      <th rowspan=\"2\" valign=\"top\">(http_inspect) DOUBLE DECODING ATTACK</th>\n",
       "      <th>3</th>\n",
       "      <td>{Timestamp('2020-11-11 10:14:14.925474'), Time...</td>\n",
       "      <td>{'10.2.25.117', '10.2.21.14', '10.2.29.248', '...</td>\n",
       "      <td>{'44494', '33431', '59729', '56448', '54084'}</td>\n",
       "      <td>{'154.241.88.201'}</td>\n",
       "      <td>{'80'}</td>\n",
       "    </tr>\n",
       "    <tr>\n",
       "      <th>3</th>\n",
       "      <td>{Timestamp('2020-11-11 11:30:38.430503'), Time...</td>\n",
       "      <td>{'10.2.25.24', '10.2.29.96', '10.2.25.7', '10....</td>\n",
       "      <td>{'38610', '43152', '45328', '39164', '38626'}</td>\n",
       "      <td>{'154.241.88.201'}</td>\n",
       "      <td>{'80'}</td>\n",
       "    </tr>\n",
       "    <tr>\n",
       "      <th rowspan=\"2\" valign=\"top\">(http_inspect) IIS UNICODE CODEPOINT ENCODING</th>\n",
       "      <th>3</th>\n",
       "      <td>{Timestamp('2020-11-11 09:42:40.338098'), Time...</td>\n",
       "      <td>{'10.2.23.252', '10.2.23.48', '10.2.23.16', '1...</td>\n",
       "      <td>{'41876', '47038', '57522', '46229', '56360', ...</td>\n",
       "      <td>{'154.241.88.201'}</td>\n",
       "      <td>{'80'}</td>\n",
       "    </tr>\n",
       "    <tr>\n",
       "      <th>3</th>\n",
       "      <td>{Timestamp('2020-11-11 10:03:40.707566'), Time...</td>\n",
       "      <td>{'10.2.23.206', '10.2.23.93', '10.2.23.253', '...</td>\n",
       "      <td>{'49823', '45516', '34881', '49093', '58032', ...</td>\n",
       "      <td>{'154.241.88.201'}</td>\n",
       "      <td>{'80'}</td>\n",
       "    </tr>\n",
       "  </tbody>\n",
       "</table>\n",
       "</div>"
      ],
      "text/plain": [
       "                                                                                                          Date  \\\n",
       "Description                                        Priority                                                      \n",
       "(http_inspect) ANOMALOUS HTTP SERVER ON UNDEFIN... 3         {Timestamp('2020-11-11 16:24:58.169766'), Time...   \n",
       "(http_inspect) DOUBLE DECODING ATTACK              3         {Timestamp('2020-11-11 10:14:14.925474'), Time...   \n",
       "                                                   3         {Timestamp('2020-11-11 11:30:38.430503'), Time...   \n",
       "(http_inspect) IIS UNICODE CODEPOINT ENCODING      3         {Timestamp('2020-11-11 09:42:40.338098'), Time...   \n",
       "                                                   3         {Timestamp('2020-11-11 10:03:40.707566'), Time...   \n",
       "\n",
       "                                                                                                         IPsrc  \\\n",
       "Description                                        Priority                                                      \n",
       "(http_inspect) ANOMALOUS HTTP SERVER ON UNDEFIN... 3                                         {'134.240.18.13'}   \n",
       "(http_inspect) DOUBLE DECODING ATTACK              3         {'10.2.25.117', '10.2.21.14', '10.2.29.248', '...   \n",
       "                                                   3         {'10.2.25.24', '10.2.29.96', '10.2.25.7', '10....   \n",
       "(http_inspect) IIS UNICODE CODEPOINT ENCODING      3         {'10.2.23.252', '10.2.23.48', '10.2.23.16', '1...   \n",
       "                                                   3         {'10.2.23.206', '10.2.23.93', '10.2.23.253', '...   \n",
       "\n",
       "                                                                                                          Psrc  \\\n",
       "Description                                        Priority                                                      \n",
       "(http_inspect) ANOMALOUS HTTP SERVER ON UNDEFIN... 3                                                  {'8014'}   \n",
       "(http_inspect) DOUBLE DECODING ATTACK              3             {'44494', '33431', '59729', '56448', '54084'}   \n",
       "                                                   3             {'38610', '43152', '45328', '39164', '38626'}   \n",
       "(http_inspect) IIS UNICODE CODEPOINT ENCODING      3         {'41876', '47038', '57522', '46229', '56360', ...   \n",
       "                                                   3         {'49823', '45516', '34881', '49093', '58032', ...   \n",
       "\n",
       "                                                                                           IPdst  \\\n",
       "Description                                        Priority                                        \n",
       "(http_inspect) ANOMALOUS HTTP SERVER ON UNDEFIN... 3         {'134.240.12.92', '134.240.12.190'}   \n",
       "(http_inspect) DOUBLE DECODING ATTACK              3                          {'154.241.88.201'}   \n",
       "                                                   3                          {'154.241.88.201'}   \n",
       "(http_inspect) IIS UNICODE CODEPOINT ENCODING      3                          {'154.241.88.201'}   \n",
       "                                                   3                          {'154.241.88.201'}   \n",
       "\n",
       "                                                                                                          Pdst  \n",
       "Description                                        Priority                                                     \n",
       "(http_inspect) ANOMALOUS HTTP SERVER ON UNDEFIN... 3         {'1825', '1824', '1855', '1875', '1852', '1866...  \n",
       "(http_inspect) DOUBLE DECODING ATTACK              3                                                    {'80'}  \n",
       "                                                   3                                                    {'80'}  \n",
       "(http_inspect) IIS UNICODE CODEPOINT ENCODING      3                                                    {'80'}  \n",
       "                                                   3                                                    {'80'}  "
      ]
     },
     "execution_count": 34,
     "metadata": {},
     "output_type": "execute_result"
    }
   ],
   "source": [
    "meta_alerts.head()"
   ]
  },
  {
   "cell_type": "code",
   "execution_count": 35,
   "metadata": {
    "colab": {
     "autoexec": {
      "startup": false,
      "wait_interval": 0
     },
     "base_uri": "https://localhost:8080/",
     "height": 85,
     "output_extras": [
      {
       "item_id": 1
      }
     ]
    },
    "colab_type": "code",
    "executionInfo": {
     "elapsed": 484,
     "status": "ok",
     "timestamp": 1519562396468,
     "user": {
      "displayName": "Marc Molina",
      "photoUrl": "//lh5.googleusercontent.com/-dIBDSoYoRMc/AAAAAAAAAAI/AAAAAAAAANY/zZrXCrUi6mc/s50-c-k-no/photo.jpg",
      "userId": "107702413150327127433"
     },
     "user_tz": -60
    },
    "id": "zBN36d8xLdvw",
    "outputId": "4a05d445-97a2-4870-e92f-36f701c5dc8f"
   },
   "outputs": [
    {
     "name": "stdout",
     "output_type": "stream",
     "text": [
      "Number of alerts without AI: 12870\n",
      "Number of alerts with AI: 31\n",
      "\n",
      "Compression ratio: 99.75912975912976%\n"
     ]
    }
   ],
   "source": [
    "print('Number of alerts without AI:', str(floor(snort_df.shape[0]/2)))\n",
    "print('Number of alerts with AI:', str(meta_alerts.shape[0]))\n",
    "print('\\nCompression ratio:', str(100 - meta_alerts.shape[0]/(floor(snort_df.shape[0]/2))*100) + '%')"
   ]
  },
  {
   "cell_type": "code",
   "execution_count": 36,
   "metadata": {},
   "outputs": [],
   "source": [
    "import ast\n",
    "\n",
    "IPsrc_all = [ast.literal_eval(x) for x in meta_alerts.IPsrc.values]\n",
    "IPdst_all = [ast.literal_eval(x) for x in meta_alerts.IPdst.values]\n",
    "\n",
    "Psrc_all = [ast.literal_eval(x) for x in meta_alerts.Psrc.values]\n",
    "Pdst_all = [ast.literal_eval(x) for x in meta_alerts.Pdst.values]"
   ]
  },
  {
   "cell_type": "code",
   "execution_count": 37,
   "metadata": {},
   "outputs": [
    {
     "name": "stdout",
     "output_type": "stream",
     "text": [
      "262 spotted machines\n",
      "1251 spotted ports\n"
     ]
    }
   ],
   "source": [
    "from functools import reduce\n",
    "\n",
    "IPsrc_set = reduce(lambda x,y: x.union(y), IPsrc_all)\n",
    "IPdst_set = reduce(lambda x,y: x.union(y), IPdst_all)\n",
    "\n",
    "n_spotted_machines = len(IPsrc_set.union(IPdst_set))\n",
    "\n",
    "print(str(n_spotted_machines), \"spotted machines\")\n",
    "\n",
    "Psrc_set = reduce(lambda x,y: x.union(y), Psrc_all)\n",
    "Pdst_set = reduce(lambda x,y: x.union(y), Pdst_all)\n",
    "\n",
    "n_spotted_ports = len(Psrc_set.union(Pdst_set))\n",
    "\n",
    "print(str(n_spotted_ports), \"spotted ports\")"
   ]
  },
  {
   "cell_type": "code",
   "execution_count": 38,
   "metadata": {},
   "outputs": [
    {
     "name": "stdout",
     "output_type": "stream",
     "text": [
      "Most aggressive machines: ['10.2.23.22', '31.154.241.4', '10.2.21.14', '10.2.29.248', '10.2.25.24']\n",
      "Most targeted machines: ['154.241.88.201', '3.75.190.181', '7.204.241.161', '134.240.12.92', '134.240.12.190']\n"
     ]
    }
   ],
   "source": [
    "from collections import Counter\n",
    "\n",
    "flatten = lambda l: [item for sublist in l for item in sublist]\n",
    "\n",
    "IPsrc_list = flatten(list(x) for x in IPsrc_all)\n",
    "IPdst_list = flatten(list(x) for x in IPdst_all)\n",
    "\n",
    "n_most_aggressive_machines = [x[0] for x in Counter(IPsrc_list).most_common()[:5]]\n",
    "n_most_targeted_machines = [x[0] for x in Counter(IPdst_list).most_common()[:5]]\n",
    "\n",
    "print(\"Most aggressive machines:\", str(n_most_aggressive_machines))\n",
    "print(\"Most targeted machines:\", str(n_most_targeted_machines))"
   ]
  },
  {
   "cell_type": "code",
   "execution_count": null,
   "metadata": {},
   "outputs": [],
   "source": []
  }
 ],
 "metadata": {
  "accelerator": "GPU",
  "colab": {
   "collapsed_sections": [],
   "default_view": {},
   "name": "USMA CDX Network.ipynb",
   "provenance": [],
   "version": "0.3.2",
   "views": {}
  },
  "kernelspec": {
   "display_name": "Python 3",
   "language": "python",
   "name": "python3"
  },
  "language_info": {
   "codemirror_mode": {
    "name": "ipython",
    "version": 3
   },
   "file_extension": ".py",
   "mimetype": "text/x-python",
   "name": "python",
   "nbconvert_exporter": "python",
   "pygments_lexer": "ipython3",
   "version": "3.7.6"
  },
  "pycharm": {
   "stem_cell": {
    "cell_type": "raw",
    "metadata": {
     "collapsed": false
    },
    "source": []
   }
  }
 },
 "nbformat": 4,
 "nbformat_minor": 1
}

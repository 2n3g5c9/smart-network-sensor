{
 "cells": [
  {
   "cell_type": "markdown",
   "metadata": {
    "colab_type": "text",
    "id": "xzuFXKH3YJTq"
   },
   "source": [
    "# SotM34\n",
    "Network capture from The Honeynet Project, Scan of the Month 34, a challenge led by netForensics."
   ]
  },
  {
   "cell_type": "code",
   "execution_count": 1,
   "metadata": {
    "colab": {
     "autoexec": {
      "startup": false,
      "wait_interval": 0
     },
     "base_uri": "https://localhost:8080/",
     "height": 34,
     "output_extras": [
      {
       "item_id": 1
      }
     ]
    },
    "colab_type": "code",
    "executionInfo": {
     "elapsed": 4772,
     "status": "ok",
     "timestamp": 1519562569990,
     "user": {
      "displayName": "Marc Molina",
      "photoUrl": "//lh5.googleusercontent.com/-dIBDSoYoRMc/AAAAAAAAAAI/AAAAAAAAANY/zZrXCrUi6mc/s50-c-k-no/photo.jpg",
      "userId": "107702413150327127433"
     },
     "user_tz": -60
    },
    "id": "PPryMTE8X7Z0",
    "outputId": "1459af1e-ad37-418c-8e76-01547c2aea31"
   },
   "outputs": [
    {
     "name": "stderr",
     "output_type": "stream",
     "text": [
      "Using TensorFlow backend.\n"
     ]
    }
   ],
   "source": [
    "import hashlib\n",
    "import numpy as np\n",
    "import matplotlib\n",
    "import matplotlib.pyplot as plt\n",
    "import pandas as pd\n",
    "import pprint\n",
    "import re\n",
    "\n",
    "from collections import Counter\n",
    "from dateutil.parser import parse\n",
    "from datetime import timedelta\n",
    "from functools import reduce\n",
    "from keras.layers import Dense\n",
    "from keras.layers import LSTM\n",
    "from keras.models import Sequential\n",
    "from math import floor, sqrt\n",
    "from matplotlib import pyplot\n",
    "from numpy import concatenate\n",
    "from sklearn.metrics import mean_squared_error\n",
    "from sklearn.preprocessing import MinMaxScaler\n",
    "\n",
    "matplotlib.style.use('seaborn-colorblind')"
   ]
  },
  {
   "cell_type": "code",
   "execution_count": 2,
   "metadata": {
    "colab": {
     "autoexec": {
      "startup": false,
      "wait_interval": 0
     }
    },
    "colab_type": "code",
    "id": "MwZD0T2kYO40"
   },
   "outputs": [],
   "source": [
    "N_SIDS = 50 # number of different SIDs to consider (by importance)\n",
    "N_EPOCH = 10000 # number of epochs in the LSTM training\n",
    "N_NEURONS = 50 # number of LSTM cells in the input layer"
   ]
  },
  {
   "cell_type": "markdown",
   "metadata": {
    "colab_type": "text",
    "id": "4tU1OfbeYTXV"
   },
   "source": [
    "## Data lookup\n",
    "Data is in a format with **truncated lines and inverted features** compared to raw snort fast alerts."
   ]
  },
  {
   "cell_type": "code",
   "execution_count": 3,
   "metadata": {
    "colab": {
     "autoexec": {
      "startup": false,
      "wait_interval": 0
     }
    },
    "colab_type": "code",
    "id": "13gbpskeYZIb"
   },
   "outputs": [],
   "source": [
    "raw_data_list = []\n",
    "\n",
    "with open('../data/sotm34', 'r') as raw_data:\n",
    "    for line in raw_data:\n",
    "        raw_data_list.append(line.rstrip())"
   ]
  },
  {
   "cell_type": "code",
   "execution_count": 4,
   "metadata": {
    "colab": {
     "autoexec": {
      "startup": false,
      "wait_interval": 0
     },
     "base_uri": "https://localhost:8080/",
     "height": 68,
     "output_extras": [
      {
       "item_id": 1
      }
     ]
    },
    "colab_type": "code",
    "executionInfo": {
     "elapsed": 482,
     "status": "ok",
     "timestamp": 1519562582416,
     "user": {
      "displayName": "Marc Molina",
      "photoUrl": "//lh5.googleusercontent.com/-dIBDSoYoRMc/AAAAAAAAAAI/AAAAAAAAANY/zZrXCrUi6mc/s50-c-k-no/photo.jpg",
      "userId": "107702413150327127433"
     },
     "user_tz": -60
    },
    "id": "JCLYg1EpYcHq",
    "outputId": "286a83ad-84a4-4dc8-a18c-ab6251ace0ff"
   },
   "outputs": [
    {
     "name": "stdout",
     "output_type": "stream",
     "text": [
      "('Feb 25 12:21:33 bastion snort: [1:483:5] ICMP PING CyberKit 2.2 Windows '\n",
      " '[Classification: Misc activity] [Priority: 3]: {ICMP} 70.81.243.88 -> '\n",
      " '11.11.79.100')\n"
     ]
    }
   ],
   "source": [
    "pprint.pprint(raw_data_list[0])"
   ]
  },
  {
   "cell_type": "markdown",
   "metadata": {
    "colab_type": "text",
    "id": "zsMf6zxBYdDR"
   },
   "source": [
    "## Data preparation\n",
    "The purpose of this part is to format features and look at data repartition among features of the alerts."
   ]
  },
  {
   "cell_type": "code",
   "execution_count": 5,
   "metadata": {
    "colab": {
     "autoexec": {
      "startup": false,
      "wait_interval": 0
     }
    },
    "colab_type": "code",
    "id": "xwxFlZvlYe0w"
   },
   "outputs": [],
   "source": [
    "snort_list = []\n",
    "\n",
    "# date, generator id (gid), snort id (sid), revision number (rev), description, classification, priority, source ip, source port, destination ip, destination port\n",
    "snort_pattern = re.compile(r\"(?P<date>\\w{3} \\d{2} \\d{2}:\\d{2}:\\d{2}) bastion snort: \\[(?P<gid>\\d+):(?P<sid>\\d+):(?P<rev>\\d+)\\] (?P<description>.*?) (?:\\[Classification: (?P<classification>.*?)\\] )?\\[Priority: (?P<priority>\\d+)\\].*?(?P<ipsrc>(?:\\d+\\.){3}\\d+)(?::(?P<psrc>\\d+))? -> (?P<ipdst>(?:\\d+\\.){3}\\d+)(?::(?P<pdst>\\d+))?\")\n",
    "for line in raw_data_list:\n",
    "    matched_line = snort_pattern.match(line)\n",
    "    if matched_line:\n",
    "        try:\n",
    "            snort_list.append([parse(matched_line.group('date')), matched_line.group('gid'), matched_line.group('sid'), matched_line.group('rev'), matched_line.group('description'), matched_line.group('classification'), matched_line.group('priority'), matched_line.group('ipsrc'), matched_line.group('psrc'), matched_line.group('ipdst'), matched_line.group('pdst')])\n",
    "        except ValueError:\n",
    "            pass\n",
    "\n",
    "columns = ['Date', 'GID', 'SID', 'Rev', 'Description', 'Classification', 'Priority', 'IPsrc', 'Psrc', 'IPdst', 'Pdst']     \n",
    "snort_df = pd.DataFrame(snort_list, columns=columns).sort_values(by='Date')"
   ]
  },
  {
   "cell_type": "code",
   "execution_count": 6,
   "metadata": {
    "colab": {
     "autoexec": {
      "startup": false,
      "wait_interval": 0
     },
     "base_uri": "https://localhost:8080/",
     "height": 204,
     "output_extras": [
      {
       "item_id": 1
      }
     ]
    },
    "colab_type": "code",
    "executionInfo": {
     "elapsed": 426,
     "status": "ok",
     "timestamp": 1519562591418,
     "user": {
      "displayName": "Marc Molina",
      "photoUrl": "//lh5.googleusercontent.com/-dIBDSoYoRMc/AAAAAAAAAAI/AAAAAAAAANY/zZrXCrUi6mc/s50-c-k-no/photo.jpg",
      "userId": "107702413150327127433"
     },
     "user_tz": -60
    },
    "id": "QsxrTAaiY64y",
    "outputId": "e7ce139f-209d-475c-bebb-171eb09b1262"
   },
   "outputs": [
    {
     "data": {
      "text/html": [
       "<div>\n",
       "<style scoped>\n",
       "    .dataframe tbody tr th:only-of-type {\n",
       "        vertical-align: middle;\n",
       "    }\n",
       "\n",
       "    .dataframe tbody tr th {\n",
       "        vertical-align: top;\n",
       "    }\n",
       "\n",
       "    .dataframe thead th {\n",
       "        text-align: right;\n",
       "    }\n",
       "</style>\n",
       "<table border=\"1\" class=\"dataframe\">\n",
       "  <thead>\n",
       "    <tr style=\"text-align: right;\">\n",
       "      <th></th>\n",
       "      <th>Date</th>\n",
       "      <th>GID</th>\n",
       "      <th>SID</th>\n",
       "      <th>Rev</th>\n",
       "      <th>Description</th>\n",
       "      <th>Classification</th>\n",
       "      <th>Priority</th>\n",
       "      <th>IPsrc</th>\n",
       "      <th>Psrc</th>\n",
       "      <th>IPdst</th>\n",
       "      <th>Pdst</th>\n",
       "    </tr>\n",
       "  </thead>\n",
       "  <tbody>\n",
       "    <tr>\n",
       "      <th>0</th>\n",
       "      <td>2020-02-25 12:21:33</td>\n",
       "      <td>1</td>\n",
       "      <td>483</td>\n",
       "      <td>5</td>\n",
       "      <td>ICMP PING CyberKit 2.2 Windows</td>\n",
       "      <td>Misc activity</td>\n",
       "      <td>3</td>\n",
       "      <td>70.81.243.88</td>\n",
       "      <td>None</td>\n",
       "      <td>11.11.79.100</td>\n",
       "      <td>None</td>\n",
       "    </tr>\n",
       "    <tr>\n",
       "      <th>1</th>\n",
       "      <td>2020-02-25 12:21:33</td>\n",
       "      <td>1</td>\n",
       "      <td>384</td>\n",
       "      <td>5</td>\n",
       "      <td>ICMP PING</td>\n",
       "      <td>Misc activity</td>\n",
       "      <td>3</td>\n",
       "      <td>70.81.243.88</td>\n",
       "      <td>None</td>\n",
       "      <td>11.11.79.100</td>\n",
       "      <td>None</td>\n",
       "    </tr>\n",
       "    <tr>\n",
       "      <th>2</th>\n",
       "      <td>2020-02-25 12:21:33</td>\n",
       "      <td>1</td>\n",
       "      <td>408</td>\n",
       "      <td>5</td>\n",
       "      <td>ICMP Echo Reply</td>\n",
       "      <td>Misc activity</td>\n",
       "      <td>3</td>\n",
       "      <td>11.11.79.100</td>\n",
       "      <td>None</td>\n",
       "      <td>70.81.243.88</td>\n",
       "      <td>None</td>\n",
       "    </tr>\n",
       "    <tr>\n",
       "      <th>3</th>\n",
       "      <td>2020-02-25 12:23:54</td>\n",
       "      <td>1</td>\n",
       "      <td>2003</td>\n",
       "      <td>8</td>\n",
       "      <td>MS-SQL Worm propagation attempt</td>\n",
       "      <td>Misc Attack</td>\n",
       "      <td>2</td>\n",
       "      <td>61.185.28.41</td>\n",
       "      <td>1067</td>\n",
       "      <td>11.11.79.89</td>\n",
       "      <td>1434</td>\n",
       "    </tr>\n",
       "    <tr>\n",
       "      <th>4</th>\n",
       "      <td>2020-02-25 12:23:54</td>\n",
       "      <td>1</td>\n",
       "      <td>2004</td>\n",
       "      <td>7</td>\n",
       "      <td>MS-SQL Worm propagation attempt OUTBOUND</td>\n",
       "      <td>Misc Attack</td>\n",
       "      <td>2</td>\n",
       "      <td>61.185.28.41</td>\n",
       "      <td>1067</td>\n",
       "      <td>11.11.79.89</td>\n",
       "      <td>1434</td>\n",
       "    </tr>\n",
       "  </tbody>\n",
       "</table>\n",
       "</div>"
      ],
      "text/plain": [
       "                 Date GID   SID Rev                               Description  \\\n",
       "0 2020-02-25 12:21:33   1   483   5            ICMP PING CyberKit 2.2 Windows   \n",
       "1 2020-02-25 12:21:33   1   384   5                                 ICMP PING   \n",
       "2 2020-02-25 12:21:33   1   408   5                           ICMP Echo Reply   \n",
       "3 2020-02-25 12:23:54   1  2003   8           MS-SQL Worm propagation attempt   \n",
       "4 2020-02-25 12:23:54   1  2004   7  MS-SQL Worm propagation attempt OUTBOUND   \n",
       "\n",
       "  Classification Priority         IPsrc  Psrc         IPdst  Pdst  \n",
       "0  Misc activity        3  70.81.243.88  None  11.11.79.100  None  \n",
       "1  Misc activity        3  70.81.243.88  None  11.11.79.100  None  \n",
       "2  Misc activity        3  11.11.79.100  None  70.81.243.88  None  \n",
       "3    Misc Attack        2  61.185.28.41  1067   11.11.79.89  1434  \n",
       "4    Misc Attack        2  61.185.28.41  1067   11.11.79.89  1434  "
      ]
     },
     "execution_count": 6,
     "metadata": {},
     "output_type": "execute_result"
    }
   ],
   "source": [
    "snort_df.head()"
   ]
  },
  {
   "cell_type": "code",
   "execution_count": 7,
   "metadata": {
    "colab": {
     "autoexec": {
      "startup": false,
      "wait_interval": 0
     },
     "base_uri": "https://localhost:8080/",
     "height": 235,
     "output_extras": [
      {
       "item_id": 1
      }
     ]
    },
    "colab_type": "code",
    "executionInfo": {
     "elapsed": 744,
     "status": "ok",
     "timestamp": 1519562593176,
     "user": {
      "displayName": "Marc Molina",
      "photoUrl": "//lh5.googleusercontent.com/-dIBDSoYoRMc/AAAAAAAAAAI/AAAAAAAAANY/zZrXCrUi6mc/s50-c-k-no/photo.jpg",
      "userId": "107702413150327127433"
     },
     "user_tz": -60
    },
    "id": "T_grqnroY81X",
    "outputId": "a5acaf5f-2db8-4d56-ea54-2edc8fdeebea"
   },
   "outputs": [
    {
     "data": {
      "text/html": [
       "<div>\n",
       "<style scoped>\n",
       "    .dataframe tbody tr th:only-of-type {\n",
       "        vertical-align: middle;\n",
       "    }\n",
       "\n",
       "    .dataframe tbody tr th {\n",
       "        vertical-align: top;\n",
       "    }\n",
       "\n",
       "    .dataframe thead th {\n",
       "        text-align: right;\n",
       "    }\n",
       "</style>\n",
       "<table border=\"1\" class=\"dataframe\">\n",
       "  <thead>\n",
       "    <tr style=\"text-align: right;\">\n",
       "      <th></th>\n",
       "      <th>Date</th>\n",
       "      <th>GID</th>\n",
       "      <th>SID</th>\n",
       "      <th>Rev</th>\n",
       "      <th>Description</th>\n",
       "      <th>Classification</th>\n",
       "      <th>Priority</th>\n",
       "      <th>IPsrc</th>\n",
       "      <th>Psrc</th>\n",
       "      <th>IPdst</th>\n",
       "      <th>Pdst</th>\n",
       "    </tr>\n",
       "  </thead>\n",
       "  <tbody>\n",
       "    <tr>\n",
       "      <th>count</th>\n",
       "      <td>39597</td>\n",
       "      <td>39597</td>\n",
       "      <td>39597</td>\n",
       "      <td>39597</td>\n",
       "      <td>39597</td>\n",
       "      <td>39597</td>\n",
       "      <td>39597</td>\n",
       "      <td>39597</td>\n",
       "      <td>23670</td>\n",
       "      <td>39597</td>\n",
       "      <td>23670</td>\n",
       "    </tr>\n",
       "    <tr>\n",
       "      <th>unique</th>\n",
       "      <td>12866</td>\n",
       "      <td>2</td>\n",
       "      <td>77</td>\n",
       "      <td>13</td>\n",
       "      <td>76</td>\n",
       "      <td>14</td>\n",
       "      <td>3</td>\n",
       "      <td>2585</td>\n",
       "      <td>5185</td>\n",
       "      <td>2384</td>\n",
       "      <td>455</td>\n",
       "    </tr>\n",
       "    <tr>\n",
       "      <th>top</th>\n",
       "      <td>2020-02-25 13:09:28</td>\n",
       "      <td>1</td>\n",
       "      <td>402</td>\n",
       "      <td>7</td>\n",
       "      <td>ICMP Destination Unreachable Port Unreachable</td>\n",
       "      <td>Misc activity</td>\n",
       "      <td>3</td>\n",
       "      <td>11.11.79.67</td>\n",
       "      <td>1755</td>\n",
       "      <td>11.11.79.67</td>\n",
       "      <td>1434</td>\n",
       "    </tr>\n",
       "    <tr>\n",
       "      <th>freq</th>\n",
       "      <td>25</td>\n",
       "      <td>38750</td>\n",
       "      <td>7787</td>\n",
       "      <td>17553</td>\n",
       "      <td>7787</td>\n",
       "      <td>19822</td>\n",
       "      <td>19830</td>\n",
       "      <td>2273</td>\n",
       "      <td>1314</td>\n",
       "      <td>1835</td>\n",
       "      <td>12806</td>\n",
       "    </tr>\n",
       "    <tr>\n",
       "      <th>first</th>\n",
       "      <td>2020-02-25 12:21:33</td>\n",
       "      <td>NaN</td>\n",
       "      <td>NaN</td>\n",
       "      <td>NaN</td>\n",
       "      <td>NaN</td>\n",
       "      <td>NaN</td>\n",
       "      <td>NaN</td>\n",
       "      <td>NaN</td>\n",
       "      <td>NaN</td>\n",
       "      <td>NaN</td>\n",
       "      <td>NaN</td>\n",
       "    </tr>\n",
       "    <tr>\n",
       "      <th>last</th>\n",
       "      <td>2020-03-31 23:49:38</td>\n",
       "      <td>NaN</td>\n",
       "      <td>NaN</td>\n",
       "      <td>NaN</td>\n",
       "      <td>NaN</td>\n",
       "      <td>NaN</td>\n",
       "      <td>NaN</td>\n",
       "      <td>NaN</td>\n",
       "      <td>NaN</td>\n",
       "      <td>NaN</td>\n",
       "      <td>NaN</td>\n",
       "    </tr>\n",
       "  </tbody>\n",
       "</table>\n",
       "</div>"
      ],
      "text/plain": [
       "                       Date    GID    SID    Rev  \\\n",
       "count                 39597  39597  39597  39597   \n",
       "unique                12866      2     77     13   \n",
       "top     2020-02-25 13:09:28      1    402      7   \n",
       "freq                     25  38750   7787  17553   \n",
       "first   2020-02-25 12:21:33    NaN    NaN    NaN   \n",
       "last    2020-03-31 23:49:38    NaN    NaN    NaN   \n",
       "\n",
       "                                          Description Classification Priority  \\\n",
       "count                                           39597          39597    39597   \n",
       "unique                                             76             14        3   \n",
       "top     ICMP Destination Unreachable Port Unreachable  Misc activity        3   \n",
       "freq                                             7787          19822    19830   \n",
       "first                                             NaN            NaN      NaN   \n",
       "last                                              NaN            NaN      NaN   \n",
       "\n",
       "              IPsrc   Psrc        IPdst   Pdst  \n",
       "count         39597  23670        39597  23670  \n",
       "unique         2585   5185         2384    455  \n",
       "top     11.11.79.67   1755  11.11.79.67   1434  \n",
       "freq           2273   1314         1835  12806  \n",
       "first           NaN    NaN          NaN    NaN  \n",
       "last            NaN    NaN          NaN    NaN  "
      ]
     },
     "execution_count": 7,
     "metadata": {},
     "output_type": "execute_result"
    }
   ],
   "source": [
    "snort_df.describe()"
   ]
  },
  {
   "cell_type": "markdown",
   "metadata": {
    "colab_type": "text",
    "id": "8seVb2INZSTT"
   },
   "source": [
    "## Data modeling"
   ]
  },
  {
   "cell_type": "code",
   "execution_count": 8,
   "metadata": {
    "colab": {
     "autoexec": {
      "startup": false,
      "wait_interval": 0
     }
    },
    "colab_type": "code",
    "id": "21og4Y8mZQIJ"
   },
   "outputs": [],
   "source": [
    "frequency = 'D'\n",
    "grouper = pd.Grouper(key='Date', freq=frequency)\n",
    "grouped_snort_df = snort_df[['Date', 'SID']].groupby([grouper, 'SID'])['SID'].count().unstack(level=1).fillna(0)\n",
    "    \n",
    "if grouped_snort_df.shape[0] < 100:\n",
    "    frequency = 'H'\n",
    "    grouper = pd.Grouper(key='Date', freq=frequency)\n",
    "    grouped_snort_df = snort_df[['Date', 'SID']].groupby([grouper, 'SID'])['SID'].count().unstack(level=1).fillna(0)"
   ]
  },
  {
   "cell_type": "code",
   "execution_count": 9,
   "metadata": {
    "colab": {
     "autoexec": {
      "startup": false,
      "wait_interval": 0
     },
     "base_uri": "https://localhost:8080/",
     "height": 297,
     "output_extras": [
      {
       "item_id": 1
      }
     ]
    },
    "colab_type": "code",
    "executionInfo": {
     "elapsed": 2088,
     "status": "ok",
     "timestamp": 1519562598104,
     "user": {
      "displayName": "Marc Molina",
      "photoUrl": "//lh5.googleusercontent.com/-dIBDSoYoRMc/AAAAAAAAAAI/AAAAAAAAANY/zZrXCrUi6mc/s50-c-k-no/photo.jpg",
      "userId": "107702413150327127433"
     },
     "user_tz": -60
    },
    "id": "g3qLc86XZUcf",
    "outputId": "56d671cf-986f-4331-862a-adc34a80cb58"
   },
   "outputs": [
    {
     "data": {
      "image/png": "[encoded data removed]",
      "text/plain": [
       "<Figure size 1152x288 with 1 Axes>"
      ]
     },
     "metadata": {
      "needs_background": "light"
     },
     "output_type": "display_data"
    }
   ],
   "source": [
    "fig, ax = plt.subplots(figsize=(16,4))\n",
    "grouped_snort_df.plot(ax=ax, legend=False)\n",
    "plt.title('Timeseries per SID (logarithmic scale)')\n",
    "ax.set_yscale('log')\n",
    "plt.show()"
   ]
  },
  {
   "cell_type": "markdown",
   "metadata": {
    "colab_type": "text",
    "id": "-uuu9Qi6ZXyE"
   },
   "source": [
    "### Modeling the top alerts\n",
    "Here we're modeling timeseries for the most frequent alerts in the dataset (defined by `N_SIDS`) to reduce compute time (more is better)."
   ]
  },
  {
   "cell_type": "code",
   "execution_count": 10,
   "metadata": {
    "colab": {
     "autoexec": {
      "startup": false,
      "wait_interval": 0
     }
    },
    "colab_type": "code",
    "id": "JId6345JZV0L"
   },
   "outputs": [],
   "source": [
    "top_sids = pd.DataFrame(sorted(Counter(snort_df['SID']).items(), key=lambda x:x[1]), columns=['SID', '#']).nlargest(N_SIDS,'#')['SID'].tolist()\n",
    "top_snort_df = snort_df[snort_df['SID'].isin(top_sids)][['Date', 'SID']].groupby([grouper, 'SID'])['SID'].count().unstack(level=1).fillna(0)"
   ]
  },
  {
   "cell_type": "code",
   "execution_count": 11,
   "metadata": {
    "colab": {
     "autoexec": {
      "startup": false,
      "wait_interval": 0
     },
     "base_uri": "https://localhost:8080/",
     "height": 297,
     "output_extras": [
      {
       "item_id": 1
      }
     ]
    },
    "colab_type": "code",
    "executionInfo": {
     "elapsed": 1749,
     "status": "ok",
     "timestamp": 1519562602694,
     "user": {
      "displayName": "Marc Molina",
      "photoUrl": "//lh5.googleusercontent.com/-dIBDSoYoRMc/AAAAAAAAAAI/AAAAAAAAANY/zZrXCrUi6mc/s50-c-k-no/photo.jpg",
      "userId": "107702413150327127433"
     },
     "user_tz": -60
    },
    "id": "-zXC4LaMZZ-6",
    "outputId": "81b3a60c-004f-4e28-87d7-b4eb646813fb"
   },
   "outputs": [
    {
     "data": {
      "image/png": "[encoded data removed]",
      "text/plain": [
       "<Figure size 1152x288 with 1 Axes>"
      ]
     },
     "metadata": {
      "needs_background": "light"
     },
     "output_type": "display_data"
    }
   ],
   "source": [
    "fig, ax = plt.subplots(figsize=(16,4))\n",
    "top_snort_df.plot(ax=ax, legend=False)\n",
    "plt.title('TOP ' + str(N_SIDS) + ' of timeseries per SID (logarithmic scale)')\n",
    "ax.set_yscale('log')\n",
    "plt.show()"
   ]
  },
  {
   "cell_type": "code",
   "execution_count": 12,
   "metadata": {
    "colab": {
     "autoexec": {
      "startup": false,
      "wait_interval": 0
     }
    },
    "colab_type": "code",
    "id": "j_MXUv5cZbfs"
   },
   "outputs": [],
   "source": [
    "train_snort_df, test_snort_df = np.split(top_snort_df, [int(0.5 * top_snort_df.shape[0]) + 1])"
   ]
  },
  {
   "cell_type": "markdown",
   "metadata": {
    "colab_type": "text",
    "id": "wQCoLOSkZesn"
   },
   "source": [
    "## Prediction\n",
    "Alert flows are modeled as aggregated signals per SID predicted by a LSTM neural network."
   ]
  },
  {
   "cell_type": "markdown",
   "metadata": {
    "colab_type": "text",
    "id": "fWhYuVo5ZhXJ"
   },
   "source": [
    "### LSTM"
   ]
  },
  {
   "cell_type": "markdown",
   "metadata": {
    "colab_type": "text",
    "id": "Ea0JqL81Zjjk"
   },
   "source": [
    "#### Time Series to Supervised Learning"
   ]
  },
  {
   "cell_type": "code",
   "execution_count": 13,
   "metadata": {
    "colab": {
     "autoexec": {
      "startup": false,
      "wait_interval": 0
     }
    },
    "colab_type": "code",
    "id": "ynXG-BWiZc9v"
   },
   "outputs": [],
   "source": [
    "def series_to_supervised(data, sids, n_in=1, n_out=1, dropnan=True):\n",
    "    \"\"\"\n",
    "    Builds a couple of vectors (X,y) with X: input, y: expected output.\n",
    "    :param data: X\n",
    "    :param sids: list of SIDs to include\n",
    "    :param n_in: input offset\n",
    "    :param n_out: output offset\n",
    "    :param dropnan: drop incomplete data\n",
    "    :return: couple of vectors (X,y) with X: input, y: expected output\n",
    "    \"\"\"\n",
    "    prefix = sids + sids\n",
    "    n_vars = 1 if type(data) is list else data.shape[1]\n",
    "    df = pd.DataFrame(data)\n",
    "    cols, names = list(), list()\n",
    "    # input sequence (t-n, ..., t-1)\n",
    "    for i in range(n_in, 0, -1):\n",
    "        cols.append(df.shift(i))\n",
    "        names += [(prefix[j+1] + '(t-%d)' % i) for j in range(n_vars)]\n",
    "    # forecast sequence (t, t+1, ..., t+n)\n",
    "    for i in range(0, n_out):\n",
    "        cols.append(df.shift(-i))\n",
    "        if i == 0:\n",
    "            names += [(prefix[j+1] + '(t)') for j in range(n_vars)]\n",
    "        else:\n",
    "            names += [(prefix[j+1] + '(t+%d)' % i) for j in range(n_vars)]\n",
    "    agg = pd.concat(cols, axis=1)\n",
    "    agg.columns = names\n",
    "    if dropnan:\n",
    "        agg.dropna(inplace=True)\n",
    "    return agg"
   ]
  },
  {
   "cell_type": "markdown",
   "metadata": {
    "colab_type": "text",
    "id": "IybBnAu9ZncW"
   },
   "source": [
    "#### Time Series to Scale"
   ]
  },
  {
   "cell_type": "code",
   "execution_count": 14,
   "metadata": {
    "colab": {
     "autoexec": {
      "startup": false,
      "wait_interval": 0
     }
    },
    "colab_type": "code",
    "id": "ztk69yymZlSd"
   },
   "outputs": [],
   "source": [
    " def scale(values):\n",
    "    \"\"\"\n",
    "    Scales values between 0 and 1 for the activation function.\n",
    "    :param values: values to scale\n",
    "    :return: scaled values between 0 and 1\n",
    "    \"\"\"\n",
    "    scaler = MinMaxScaler(feature_range=(0, 1))\n",
    "    scaled = scaler.fit_transform(values)\n",
    "    \n",
    "    return scaler, scaled"
   ]
  },
  {
   "cell_type": "markdown",
   "metadata": {
    "colab_type": "text",
    "id": "Fk7z8DVkZr1I"
   },
   "source": [
    "#### LSTM model"
   ]
  },
  {
   "cell_type": "code",
   "execution_count": 15,
   "metadata": {
    "colab": {
     "autoexec": {
      "startup": false,
      "wait_interval": 0
     }
    },
    "colab_type": "code",
    "id": "0EvSIiq4Zp4v"
   },
   "outputs": [],
   "source": [
    "def fit_lstm(train_X, train_y, nb_epoch, neurons=10):\n",
    "    \"\"\"\n",
    "    Trains an LSTM network on training data.\n",
    "    :param train_X: training data\n",
    "    :param train_y: training data\n",
    "    :param nb_epoch: nb_epoch for the LSTM function\n",
    "    :param neurons: neurons for the LSTM function\n",
    "    :return: learned LSTM model\n",
    "    \"\"\"\n",
    "    model = Sequential()\n",
    "    model.add(LSTM(neurons, input_shape=(train_X.shape[1], train_X.shape[2])))\n",
    "    model.add(Dense(train_X.shape[2]))\n",
    "    model.compile(loss='mae', optimizer='adam')\n",
    "    \n",
    "    history = model.fit(train_X, train_y, epochs=nb_epoch, batch_size=72, validation_data=(train_X, train_y), verbose=0, shuffle=False)\n",
    "    \n",
    "    return history, model"
   ]
  },
  {
   "cell_type": "markdown",
   "metadata": {
    "colab_type": "text",
    "id": "PNZF2czYZwpo"
   },
   "source": [
    "#### Prediction"
   ]
  },
  {
   "cell_type": "code",
   "execution_count": 16,
   "metadata": {
    "colab": {
     "autoexec": {
      "startup": false,
      "wait_interval": 0
     },
     "base_uri": "https://localhost:8080/",
     "height": 270,
     "output_extras": [
      {
       "item_id": 1
      }
     ]
    },
    "colab_type": "code",
    "executionInfo": {
     "elapsed": 848,
     "status": "ok",
     "timestamp": 1519562610811,
     "user": {
      "displayName": "Marc Molina",
      "photoUrl": "//lh5.googleusercontent.com/-dIBDSoYoRMc/AAAAAAAAAAI/AAAAAAAAANY/zZrXCrUi6mc/s50-c-k-no/photo.jpg",
      "userId": "107702413150327127433"
     },
     "user_tz": -60
    },
    "id": "o4NQKklUZuLl",
    "outputId": "fb30fc95-7a42-4914-b23c-a4c126359e04"
   },
   "outputs": [
    {
     "data": {
      "text/html": [
       "<div>\n",
       "<style scoped>\n",
       "    .dataframe tbody tr th:only-of-type {\n",
       "        vertical-align: middle;\n",
       "    }\n",
       "\n",
       "    .dataframe tbody tr th {\n",
       "        vertical-align: top;\n",
       "    }\n",
       "\n",
       "    .dataframe thead th {\n",
       "        text-align: right;\n",
       "    }\n",
       "</style>\n",
       "<table border=\"1\" class=\"dataframe\">\n",
       "  <thead>\n",
       "    <tr style=\"text-align: right;\">\n",
       "      <th></th>\n",
       "      <th>2003(t-1)</th>\n",
       "      <th>2004(t-1)</th>\n",
       "      <th>2050(t-1)</th>\n",
       "      <th>2001689(t-1)</th>\n",
       "      <th>384(t-1)</th>\n",
       "      <th>408(t-1)</th>\n",
       "      <th>648(t-1)</th>\n",
       "      <th>2000348(t-1)</th>\n",
       "      <th>483(t-1)</th>\n",
       "      <th>2000345(t-1)</th>\n",
       "      <th>...</th>\n",
       "      <th>2000381(t)</th>\n",
       "      <th>485(t)</th>\n",
       "      <th>1394(t)</th>\n",
       "      <th>1616(t)</th>\n",
       "      <th>13(t)</th>\n",
       "      <th>1881(t)</th>\n",
       "      <th>1242(t)</th>\n",
       "      <th>1243(t)</th>\n",
       "      <th>2129(t)</th>\n",
       "      <th>402(t)</th>\n",
       "    </tr>\n",
       "  </thead>\n",
       "  <tbody>\n",
       "    <tr>\n",
       "      <th>1</th>\n",
       "      <td>0.0</td>\n",
       "      <td>0.0</td>\n",
       "      <td>0.0</td>\n",
       "      <td>0.000000</td>\n",
       "      <td>0.0</td>\n",
       "      <td>0.0</td>\n",
       "      <td>0.0</td>\n",
       "      <td>0.0</td>\n",
       "      <td>0.0</td>\n",
       "      <td>0.0</td>\n",
       "      <td>...</td>\n",
       "      <td>0.057604</td>\n",
       "      <td>0.0</td>\n",
       "      <td>0.041667</td>\n",
       "      <td>0.071429</td>\n",
       "      <td>0.0</td>\n",
       "      <td>0.0</td>\n",
       "      <td>0.0</td>\n",
       "      <td>0.0</td>\n",
       "      <td>0.0</td>\n",
       "      <td>0.0</td>\n",
       "    </tr>\n",
       "    <tr>\n",
       "      <th>2</th>\n",
       "      <td>0.0</td>\n",
       "      <td>0.0</td>\n",
       "      <td>0.0</td>\n",
       "      <td>0.608696</td>\n",
       "      <td>0.0</td>\n",
       "      <td>0.0</td>\n",
       "      <td>0.0</td>\n",
       "      <td>0.0</td>\n",
       "      <td>0.0</td>\n",
       "      <td>0.0</td>\n",
       "      <td>...</td>\n",
       "      <td>0.000000</td>\n",
       "      <td>0.0</td>\n",
       "      <td>0.000000</td>\n",
       "      <td>0.000000</td>\n",
       "      <td>0.0</td>\n",
       "      <td>0.0</td>\n",
       "      <td>0.0</td>\n",
       "      <td>0.0</td>\n",
       "      <td>0.0</td>\n",
       "      <td>0.0</td>\n",
       "    </tr>\n",
       "    <tr>\n",
       "      <th>3</th>\n",
       "      <td>0.0</td>\n",
       "      <td>0.0</td>\n",
       "      <td>0.0</td>\n",
       "      <td>0.000000</td>\n",
       "      <td>0.0</td>\n",
       "      <td>0.0</td>\n",
       "      <td>0.0</td>\n",
       "      <td>0.0</td>\n",
       "      <td>0.0</td>\n",
       "      <td>0.0</td>\n",
       "      <td>...</td>\n",
       "      <td>0.009217</td>\n",
       "      <td>0.0</td>\n",
       "      <td>0.020833</td>\n",
       "      <td>0.107143</td>\n",
       "      <td>0.0</td>\n",
       "      <td>0.0</td>\n",
       "      <td>0.0</td>\n",
       "      <td>0.0</td>\n",
       "      <td>0.0</td>\n",
       "      <td>0.0</td>\n",
       "    </tr>\n",
       "    <tr>\n",
       "      <th>4</th>\n",
       "      <td>0.5</td>\n",
       "      <td>0.0</td>\n",
       "      <td>0.5</td>\n",
       "      <td>0.000000</td>\n",
       "      <td>0.0</td>\n",
       "      <td>0.0</td>\n",
       "      <td>0.0</td>\n",
       "      <td>0.5</td>\n",
       "      <td>0.0</td>\n",
       "      <td>0.0</td>\n",
       "      <td>...</td>\n",
       "      <td>0.002304</td>\n",
       "      <td>0.0</td>\n",
       "      <td>0.000000</td>\n",
       "      <td>0.000000</td>\n",
       "      <td>0.0</td>\n",
       "      <td>0.0</td>\n",
       "      <td>0.0</td>\n",
       "      <td>0.0</td>\n",
       "      <td>0.0</td>\n",
       "      <td>0.0</td>\n",
       "    </tr>\n",
       "    <tr>\n",
       "      <th>5</th>\n",
       "      <td>0.0</td>\n",
       "      <td>0.0</td>\n",
       "      <td>0.0</td>\n",
       "      <td>0.000000</td>\n",
       "      <td>0.0</td>\n",
       "      <td>0.0</td>\n",
       "      <td>0.0</td>\n",
       "      <td>0.0</td>\n",
       "      <td>0.0</td>\n",
       "      <td>0.0</td>\n",
       "      <td>...</td>\n",
       "      <td>0.013825</td>\n",
       "      <td>0.0</td>\n",
       "      <td>0.083333</td>\n",
       "      <td>0.035714</td>\n",
       "      <td>0.0</td>\n",
       "      <td>0.0</td>\n",
       "      <td>0.0</td>\n",
       "      <td>0.0</td>\n",
       "      <td>0.0</td>\n",
       "      <td>0.0</td>\n",
       "    </tr>\n",
       "  </tbody>\n",
       "</table>\n",
       "<p>5 rows × 100 columns</p>\n",
       "</div>"
      ],
      "text/plain": [
       "   2003(t-1)  2004(t-1)  2050(t-1)  2001689(t-1)  384(t-1)  408(t-1)  \\\n",
       "1        0.0        0.0        0.0      0.000000       0.0       0.0   \n",
       "2        0.0        0.0        0.0      0.608696       0.0       0.0   \n",
       "3        0.0        0.0        0.0      0.000000       0.0       0.0   \n",
       "4        0.5        0.0        0.5      0.000000       0.0       0.0   \n",
       "5        0.0        0.0        0.0      0.000000       0.0       0.0   \n",
       "\n",
       "   648(t-1)  2000348(t-1)  483(t-1)  2000345(t-1)  ...  2000381(t)  485(t)  \\\n",
       "1       0.0           0.0       0.0           0.0  ...    0.057604     0.0   \n",
       "2       0.0           0.0       0.0           0.0  ...    0.000000     0.0   \n",
       "3       0.0           0.0       0.0           0.0  ...    0.009217     0.0   \n",
       "4       0.0           0.5       0.0           0.0  ...    0.002304     0.0   \n",
       "5       0.0           0.0       0.0           0.0  ...    0.013825     0.0   \n",
       "\n",
       "    1394(t)   1616(t)  13(t)  1881(t)  1242(t)  1243(t)  2129(t)  402(t)  \n",
       "1  0.041667  0.071429    0.0      0.0      0.0      0.0      0.0     0.0  \n",
       "2  0.000000  0.000000    0.0      0.0      0.0      0.0      0.0     0.0  \n",
       "3  0.020833  0.107143    0.0      0.0      0.0      0.0      0.0     0.0  \n",
       "4  0.000000  0.000000    0.0      0.0      0.0      0.0      0.0     0.0  \n",
       "5  0.083333  0.035714    0.0      0.0      0.0      0.0      0.0     0.0  \n",
       "\n",
       "[5 rows x 100 columns]"
      ]
     },
     "execution_count": 16,
     "metadata": {},
     "output_type": "execute_result"
    }
   ],
   "source": [
    "scaler, scaled = scale(top_snort_df)\n",
    "reframed = series_to_supervised(scaled, top_sids, 1, 1)\n",
    "reframed.head()"
   ]
  },
  {
   "cell_type": "code",
   "execution_count": 17,
   "metadata": {
    "colab": {
     "autoexec": {
      "startup": false,
      "wait_interval": 0
     },
     "base_uri": "https://localhost:8080/",
     "height": 34,
     "output_extras": [
      {
       "item_id": 1
      }
     ]
    },
    "colab_type": "code",
    "executionInfo": {
     "elapsed": 603,
     "status": "ok",
     "timestamp": 1519562612766,
     "user": {
      "displayName": "Marc Molina",
      "photoUrl": "//lh5.googleusercontent.com/-dIBDSoYoRMc/AAAAAAAAAAI/AAAAAAAAANY/zZrXCrUi6mc/s50-c-k-no/photo.jpg",
      "userId": "107702413150327127433"
     },
     "user_tz": -60
    },
    "id": "LHMKbNVbZzET",
    "outputId": "8cbf37f5-6c56-4861-a5c4-d2e08547f049"
   },
   "outputs": [
    {
     "data": {
      "text/plain": [
       "((289, 1, 50), (289, 50), (288, 1, 50), (288, 50))"
      ]
     },
     "execution_count": 17,
     "metadata": {},
     "output_type": "execute_result"
    }
   ],
   "source": [
    "values = reframed.values\n",
    "train, test = np.split(values, [int(0.5 * values.shape[0]) + 1])\n",
    "train_X, train_y = train[:, :-N_SIDS], train[:, -N_SIDS:]\n",
    "test_X, test_y = test[:, :-N_SIDS], test[:, -N_SIDS:]\n",
    "train_X = train_X.reshape((train_X.shape[0], 1, train_X.shape[1]))\n",
    "test_X = test_X.reshape((test_X.shape[0], 1, test_X.shape[1]))\n",
    "\n",
    "train_X.shape, train_y.shape, test_X.shape, test_y.shape"
   ]
  },
  {
   "cell_type": "code",
   "execution_count": 18,
   "metadata": {
    "colab": {
     "autoexec": {
      "startup": false,
      "wait_interval": 0
     }
    },
    "colab_type": "code",
    "id": "oGqUVe8kZ0z7"
   },
   "outputs": [],
   "source": [
    "history, lstm_model = fit_lstm(train_X, train_y, N_EPOCH, N_NEURONS)"
   ]
  },
  {
   "cell_type": "code",
   "execution_count": 19,
   "metadata": {
    "colab": {
     "autoexec": {
      "startup": false,
      "wait_interval": 0
     },
     "base_uri": "https://localhost:8080/",
     "height": 265,
     "output_extras": [
      {
       "item_id": 1
      }
     ]
    },
    "colab_type": "code",
    "executionInfo": {
     "elapsed": 695,
     "status": "ok",
     "timestamp": 1519503214951,
     "user": {
      "displayName": "Marc Molina",
      "photoUrl": "//lh5.googleusercontent.com/-dIBDSoYoRMc/AAAAAAAAAAI/AAAAAAAAANY/zZrXCrUi6mc/s50-c-k-no/photo.jpg",
      "userId": "107702413150327127433"
     },
     "user_tz": -60
    },
    "id": "OcBG6SNIZ2Yl",
    "outputId": "ed60fd90-7ee4-418b-a074-ab59db4c06cf"
   },
   "outputs": [
    {
     "data": {
      "image/png": "[encoded data removed]",
      "text/plain": [
       "<Figure size 1152x288 with 1 Axes>"
      ]
     },
     "metadata": {
      "needs_background": "light"
     },
     "output_type": "display_data"
    }
   ],
   "source": [
    "pyplot.figure(figsize=(16,4))\n",
    "pyplot.plot(history.history['loss'], label='train')\n",
    "pyplot.plot(history.history['val_loss'], label='test')\n",
    "pyplot.legend()\n",
    "pyplot.show()"
   ]
  },
  {
   "cell_type": "code",
   "execution_count": 20,
   "metadata": {
    "colab": {
     "autoexec": {
      "startup": false,
      "wait_interval": 0
     }
    },
    "colab_type": "code",
    "id": "WpH_yntraBf4"
   },
   "outputs": [],
   "source": [
    "yhat = lstm_model.predict(test_X)"
   ]
  },
  {
   "cell_type": "code",
   "execution_count": 21,
   "metadata": {
    "colab": {
     "autoexec": {
      "startup": false,
      "wait_interval": 0
     }
    },
    "colab_type": "code",
    "id": "nEVZ8LldaDEO"
   },
   "outputs": [],
   "source": [
    "test_X = test_X.reshape((test_X.shape[0], test_X.shape[2]))\n",
    "inv_yhat = scaler.inverse_transform(yhat)\n",
    "inv_y = scaler.inverse_transform(test_y)"
   ]
  },
  {
   "cell_type": "code",
   "execution_count": 22,
   "metadata": {
    "colab": {
     "autoexec": {
      "startup": false,
      "wait_interval": 0
     },
     "base_uri": "https://localhost:8080/",
     "height": 34,
     "output_extras": [
      {
       "item_id": 1
      }
     ]
    },
    "colab_type": "code",
    "executionInfo": {
     "elapsed": 393,
     "status": "ok",
     "timestamp": 1519503217761,
     "user": {
      "displayName": "Marc Molina",
      "photoUrl": "//lh5.googleusercontent.com/-dIBDSoYoRMc/AAAAAAAAAAI/AAAAAAAAANY/zZrXCrUi6mc/s50-c-k-no/photo.jpg",
      "userId": "107702413150327127433"
     },
     "user_tz": -60
    },
    "id": "sZwN4JmQaEsn",
    "outputId": "f2cf7e8d-fc7f-4ec7-bbe2-1ed3d6a78987"
   },
   "outputs": [
    {
     "name": "stdout",
     "output_type": "stream",
     "text": [
      "RMSE test: 20.298\n"
     ]
    }
   ],
   "source": [
    "rmse = sqrt(mean_squared_error(inv_y, inv_yhat))\n",
    "print('RMSE test: %.3f' % rmse)"
   ]
  },
  {
   "cell_type": "code",
   "execution_count": 23,
   "metadata": {
    "colab": {
     "autoexec": {
      "startup": false,
      "wait_interval": 0
     }
    },
    "colab_type": "code",
    "id": "y7dVPVmtaGWH"
   },
   "outputs": [],
   "source": [
    "y_hat_df = pd.DataFrame(inv_yhat, columns=top_sids).set_index(test_snort_df.index[-inv_yhat.shape[0]:])\n",
    "y_df = pd.DataFrame(inv_y, columns=top_sids).set_index(test_snort_df.index[-inv_yhat.shape[0]:])"
   ]
  },
  {
   "cell_type": "code",
   "execution_count": 24,
   "metadata": {
    "colab": {
     "autoexec": {
      "startup": false,
      "wait_interval": 0
     },
     "base_uri": "https://localhost:8080/",
     "height": 318,
     "output_extras": [
      {
       "item_id": 1
      }
     ]
    },
    "colab_type": "code",
    "executionInfo": {
     "elapsed": 1059,
     "status": "ok",
     "timestamp": 1519503219784,
     "user": {
      "displayName": "Marc Molina",
      "photoUrl": "//lh5.googleusercontent.com/-dIBDSoYoRMc/AAAAAAAAAAI/AAAAAAAAANY/zZrXCrUi6mc/s50-c-k-no/photo.jpg",
      "userId": "107702413150327127433"
     },
     "user_tz": -60
    },
    "id": "lvollYTqaHoi",
    "outputId": "96a7b97d-068c-4db9-e0ec-9a30f9be77ec"
   },
   "outputs": [
    {
     "data": {
      "image/png": "[encoded data removed]",
      "text/plain": [
       "<Figure size 1152x288 with 1 Axes>"
      ]
     },
     "metadata": {
      "needs_background": "light"
     },
     "output_type": "display_data"
    }
   ],
   "source": [
    "y_df.subtract(y_hat_df).abs().plot(figsize=(16,4), legend=False, title=\"Prediction Error\")\n",
    "plt.show()"
   ]
  },
  {
   "cell_type": "markdown",
   "metadata": {
    "colab_type": "text",
    "id": "ulf_-NjaaJiP"
   },
   "source": [
    "#### Anomaly detection"
   ]
  },
  {
   "cell_type": "code",
   "execution_count": 25,
   "metadata": {
    "colab": {
     "autoexec": {
      "startup": false,
      "wait_interval": 0
     }
    },
    "colab_type": "code",
    "id": "na4hKywZaLJB"
   },
   "outputs": [],
   "source": [
    "def detect_anomalies(test, predictions, frequency):\n",
    "    \"\"\"\n",
    "    Detects anomalies on a test signal.\n",
    "    :param test: data to predict\n",
    "    :param predictions: prediction on test\n",
    "    :param frequency: size of the minimal time window\n",
    "    :return: anomaly windows\n",
    "    \"\"\"\n",
    "    anomalies = {}\n",
    "    errors = test.subtract(predictions)\n",
    "    threshold = errors.mean() + 3 * errors.std()\n",
    "    min_window_size = timedelta(hours=1) if frequency == 'H' else timedelta(days=1)\n",
    "    \n",
    "    for sid in errors:\n",
    "        for idx in errors.index:\n",
    "            if ((not sid in anomalies) or (sid in anomalies and (anomalies[sid][-1][1] < idx))) and (errors[sid].loc[idx] > threshold[sid]):\n",
    "                e = idx + min_window_size\n",
    "                for idx2 in [x for x in errors.index if x > idx]:\n",
    "                    if np.absolute(errors[sid].loc[idx2]) > threshold[sid]:\n",
    "                        e = idx2\n",
    "                    else:\n",
    "                        break\n",
    "                anomalies.setdefault(sid, []).append([idx,e])\n",
    "        \n",
    "        \n",
    "    return anomalies\n",
    "\n",
    "def plot_anomalies(test, anomalies):\n",
    "    \"\"\"\n",
    "    Displays anomaly windows on the test signal.\n",
    "    :param test: data to analyze\n",
    "    :param anomalies: anomaly windows by SID\n",
    "    \"\"\"\n",
    "    fig = plt.figure()\n",
    "    fig.set_size_inches(16, 4)\n",
    "    \n",
    "    plt.title(\"Anomaly detection on NIDS alerts\")\n",
    "    plt.plot(test)\n",
    "    \n",
    "    for key, value in anomalies.items():\n",
    "        for anomaly in value:\n",
    "            plt.axvspan(anomaly[0], anomaly[1], color='red', alpha=0.1)\n",
    "        \n",
    "    plt.show()"
   ]
  },
  {
   "cell_type": "code",
   "execution_count": 26,
   "metadata": {
    "colab": {
     "autoexec": {
      "startup": false,
      "wait_interval": 0
     }
    },
    "colab_type": "code",
    "id": "LjX0HmSzaM0b"
   },
   "outputs": [],
   "source": [
    "anomalies = detect_anomalies(y_df, y_hat_df, frequency)"
   ]
  },
  {
   "cell_type": "code",
   "execution_count": 27,
   "metadata": {
    "colab": {
     "autoexec": {
      "startup": false,
      "wait_interval": 0
     },
     "base_uri": "https://localhost:8080/",
     "height": 280,
     "output_extras": [
      {
       "item_id": 1
      }
     ]
    },
    "colab_type": "code",
    "executionInfo": {
     "elapsed": 1237,
     "status": "ok",
     "timestamp": 1519503224003,
     "user": {
      "displayName": "Marc Molina",
      "photoUrl": "//lh5.googleusercontent.com/-dIBDSoYoRMc/AAAAAAAAAAI/AAAAAAAAANY/zZrXCrUi6mc/s50-c-k-no/photo.jpg",
      "userId": "107702413150327127433"
     },
     "user_tz": -60
    },
    "id": "iXmRjfWnaPZW",
    "outputId": "c9a771a5-496c-4adc-8c9f-b1bf37f9cf2c"
   },
   "outputs": [
    {
     "data": {
      "image/png": "[encoded data removed]",
      "text/plain": [
       "<Figure size 1152x288 with 1 Axes>"
      ]
     },
     "metadata": {
      "needs_background": "light"
     },
     "output_type": "display_data"
    }
   ],
   "source": [
    "plot_anomalies(y_df, anomalies)"
   ]
  },
  {
   "cell_type": "markdown",
   "metadata": {
    "colab_type": "text",
    "id": "P5GghT-6aRb5"
   },
   "source": [
    "## Meta-alerting on anomalies\n",
    "The purpose of this part is to be able to forge meta-alerts with the knowledge brought by anomaly detection."
   ]
  },
  {
   "cell_type": "code",
   "execution_count": 28,
   "metadata": {
    "colab": {
     "autoexec": {
      "startup": false,
      "wait_interval": 0
     }
    },
    "colab_type": "code",
    "id": "3FmBY3HhaTe0"
   },
   "outputs": [],
   "source": [
    "def join_dfs(ldf, rdf):\n",
    "    \"\"\"\n",
    "    Joins two dataframes.\n",
    "    :param ldf: dataframe 1\n",
    "    :param rdf: dataframe 2\n",
    "    :return: joined dataframe\n",
    "    \"\"\"\n",
    "    return ldf.join(rdf, how='inner')\n",
    "\n",
    "def agg_meta_alerts(alerts_on_anomalies, anomalies):\n",
    "    \"\"\"\n",
    "    Aggregates alerts according to the context defined by anomalies.\n",
    "    :param alerts_on_anomalies: NIDS alerts in anomaly windows\n",
    "    :param anomalies: anomaly windows by SID\n",
    "    :return: meta-alerts in anomaly windows\n",
    "    \"\"\"\n",
    "    alert_dfs = []\n",
    "\n",
    "    for key, value in anomalies.items():\n",
    "        for anomaly in value:\n",
    "            tmp_df = alerts_on_anomalies[(alerts_on_anomalies['Date'] > anomaly[0]) & (alerts_on_anomalies['Date'] < anomaly[1])]\n",
    "            true_alerts = tmp_df.drop(columns=['GID', 'SID', 'Rev', 'Classification']).drop_duplicates()\n",
    "            if not true_alerts.empty: \n",
    "                meta_alerts = true_alerts.groupby(['Description', 'Priority'])\n",
    "                date = pd.DataFrame(meta_alerts['Date'].apply(set))\n",
    "                ip_src = pd.DataFrame(meta_alerts['IPsrc'].apply(set))\n",
    "                p_src = pd.DataFrame(meta_alerts['Psrc'].apply(set))\n",
    "                ip_dst = pd.DataFrame(meta_alerts['IPdst'].apply(set))\n",
    "                p_dst = pd.DataFrame(meta_alerts['Pdst'].apply(set))\n",
    "                alert_dfs.append(reduce(join_dfs, [date, ip_src, p_src, ip_dst, p_dst]))\n",
    "    alert_df = pd.concat(alert_dfs)\n",
    "    \n",
    "    alert_df['Date'] = alert_df['Date'].astype(str)\n",
    "    alert_df['IPsrc'] = alert_df['IPsrc'].astype(str)\n",
    "    alert_df['Psrc'] = alert_df['Psrc'].astype(str)\n",
    "    alert_df['IPdst'] = alert_df['IPdst'].astype(str)\n",
    "    alert_df['Pdst'] = alert_df['Pdst'].astype(str)\n",
    "    \n",
    "    return alert_df.drop_duplicates()"
   ]
  },
  {
   "cell_type": "code",
   "execution_count": 29,
   "metadata": {
    "colab": {
     "autoexec": {
      "startup": false,
      "wait_interval": 0
     }
    },
    "colab_type": "code",
    "id": "l1Bhr1w9aVRi"
   },
   "outputs": [],
   "source": [
    "meta_alerts = agg_meta_alerts(snort_df, anomalies).sort_index()"
   ]
  },
  {
   "cell_type": "code",
   "execution_count": 30,
   "metadata": {
    "colab": {
     "autoexec": {
      "startup": false,
      "wait_interval": 0
     },
     "base_uri": "https://localhost:8080/",
     "height": 320,
     "output_extras": [
      {
       "item_id": 1
      }
     ]
    },
    "colab_type": "code",
    "executionInfo": {
     "elapsed": 539,
     "status": "ok",
     "timestamp": 1519503230086,
     "user": {
      "displayName": "Marc Molina",
      "photoUrl": "//lh5.googleusercontent.com/-dIBDSoYoRMc/AAAAAAAAAAI/AAAAAAAAANY/zZrXCrUi6mc/s50-c-k-no/photo.jpg",
      "userId": "107702413150327127433"
     },
     "user_tz": -60
    },
    "id": "VvB8UtAAaWw7",
    "outputId": "d911dde7-c01a-4028-b6a6-07ca74989723"
   },
   "outputs": [
    {
     "data": {
      "text/html": [
       "<div>\n",
       "<style scoped>\n",
       "    .dataframe tbody tr th:only-of-type {\n",
       "        vertical-align: middle;\n",
       "    }\n",
       "\n",
       "    .dataframe tbody tr th {\n",
       "        vertical-align: top;\n",
       "    }\n",
       "\n",
       "    .dataframe thead th {\n",
       "        text-align: right;\n",
       "    }\n",
       "</style>\n",
       "<table border=\"1\" class=\"dataframe\">\n",
       "  <thead>\n",
       "    <tr style=\"text-align: right;\">\n",
       "      <th></th>\n",
       "      <th></th>\n",
       "      <th>Date</th>\n",
       "      <th>IPsrc</th>\n",
       "      <th>Psrc</th>\n",
       "      <th>IPdst</th>\n",
       "      <th>Pdst</th>\n",
       "    </tr>\n",
       "    <tr>\n",
       "      <th>Description</th>\n",
       "      <th>Priority</th>\n",
       "      <th></th>\n",
       "      <th></th>\n",
       "      <th></th>\n",
       "      <th></th>\n",
       "      <th></th>\n",
       "    </tr>\n",
       "  </thead>\n",
       "  <tbody>\n",
       "    <tr>\n",
       "      <th rowspan=\"3\" valign=\"top\">(http_inspect) BARE BYTE UNICODE ENCODING</th>\n",
       "      <th>1</th>\n",
       "      <td>{Timestamp('2020-03-24 19:04:14'), Timestamp('...</td>\n",
       "      <td>{'63.197.49.61'}</td>\n",
       "      <td>{'1150', '2778', '3639', '4187', '3500', '1192...</td>\n",
       "      <td>{'11.11.79.75', '11.11.79.87', '11.11.79.120',...</td>\n",
       "      <td>{'80'}</td>\n",
       "    </tr>\n",
       "    <tr>\n",
       "      <th>1</th>\n",
       "      <td>{Timestamp('2020-03-24 20:29:44'), Timestamp('...</td>\n",
       "      <td>{'63.197.49.61'}</td>\n",
       "      <td>{'1302', '2939', '2217', '3646', '4605', '2759...</td>\n",
       "      <td>{'11.11.79.105', '11.11.79.84', '11.11.79.81',...</td>\n",
       "      <td>{'80'}</td>\n",
       "    </tr>\n",
       "    <tr>\n",
       "      <th>1</th>\n",
       "      <td>{Timestamp('2020-03-24 18:59:58'), Timestamp('...</td>\n",
       "      <td>{'63.197.49.61'}</td>\n",
       "      <td>{'2780', '2987', '2213', '2949', '2832', '2673...</td>\n",
       "      <td>{'11.11.79.81', '11.11.79.95', '11.11.79.90', ...</td>\n",
       "      <td>{'80'}</td>\n",
       "    </tr>\n",
       "    <tr>\n",
       "      <th rowspan=\"2\" valign=\"top\">(http_inspect) DOUBLE DECODING ATTACK</th>\n",
       "      <th>2</th>\n",
       "      <td>{Timestamp('2020-03-21 20:41:05'), Timestamp('...</td>\n",
       "      <td>{'24.127.191.148'}</td>\n",
       "      <td>{'4838', '4772', '4889', '4767', '4723', '1057...</td>\n",
       "      <td>{'11.11.79.80'}</td>\n",
       "      <td>{'80'}</td>\n",
       "    </tr>\n",
       "    <tr>\n",
       "      <th>2</th>\n",
       "      <td>{Timestamp('2020-03-22 00:08:52'), Timestamp('...</td>\n",
       "      <td>{'66.138.98.65'}</td>\n",
       "      <td>{'2164', '2163', '2101', '2104', '2153', '2167...</td>\n",
       "      <td>{'11.11.79.105'}</td>\n",
       "      <td>{'80'}</td>\n",
       "    </tr>\n",
       "  </tbody>\n",
       "</table>\n",
       "</div>"
      ],
      "text/plain": [
       "                                                                                                 Date  \\\n",
       "Description                               Priority                                                      \n",
       "(http_inspect) BARE BYTE UNICODE ENCODING 1         {Timestamp('2020-03-24 19:04:14'), Timestamp('...   \n",
       "                                          1         {Timestamp('2020-03-24 20:29:44'), Timestamp('...   \n",
       "                                          1         {Timestamp('2020-03-24 18:59:58'), Timestamp('...   \n",
       "(http_inspect) DOUBLE DECODING ATTACK     2         {Timestamp('2020-03-21 20:41:05'), Timestamp('...   \n",
       "                                          2         {Timestamp('2020-03-22 00:08:52'), Timestamp('...   \n",
       "\n",
       "                                                                 IPsrc  \\\n",
       "Description                               Priority                       \n",
       "(http_inspect) BARE BYTE UNICODE ENCODING 1           {'63.197.49.61'}   \n",
       "                                          1           {'63.197.49.61'}   \n",
       "                                          1           {'63.197.49.61'}   \n",
       "(http_inspect) DOUBLE DECODING ATTACK     2         {'24.127.191.148'}   \n",
       "                                          2           {'66.138.98.65'}   \n",
       "\n",
       "                                                                                                 Psrc  \\\n",
       "Description                               Priority                                                      \n",
       "(http_inspect) BARE BYTE UNICODE ENCODING 1         {'1150', '2778', '3639', '4187', '3500', '1192...   \n",
       "                                          1         {'1302', '2939', '2217', '3646', '4605', '2759...   \n",
       "                                          1         {'2780', '2987', '2213', '2949', '2832', '2673...   \n",
       "(http_inspect) DOUBLE DECODING ATTACK     2         {'4838', '4772', '4889', '4767', '4723', '1057...   \n",
       "                                          2         {'2164', '2163', '2101', '2104', '2153', '2167...   \n",
       "\n",
       "                                                                                                IPdst  \\\n",
       "Description                               Priority                                                      \n",
       "(http_inspect) BARE BYTE UNICODE ENCODING 1         {'11.11.79.75', '11.11.79.87', '11.11.79.120',...   \n",
       "                                          1         {'11.11.79.105', '11.11.79.84', '11.11.79.81',...   \n",
       "                                          1         {'11.11.79.81', '11.11.79.95', '11.11.79.90', ...   \n",
       "(http_inspect) DOUBLE DECODING ATTACK     2                                           {'11.11.79.80'}   \n",
       "                                          2                                          {'11.11.79.105'}   \n",
       "\n",
       "                                                      Pdst  \n",
       "Description                               Priority          \n",
       "(http_inspect) BARE BYTE UNICODE ENCODING 1         {'80'}  \n",
       "                                          1         {'80'}  \n",
       "                                          1         {'80'}  \n",
       "(http_inspect) DOUBLE DECODING ATTACK     2         {'80'}  \n",
       "                                          2         {'80'}  "
      ]
     },
     "execution_count": 30,
     "metadata": {},
     "output_type": "execute_result"
    }
   ],
   "source": [
    "meta_alerts.head()"
   ]
  },
  {
   "cell_type": "code",
   "execution_count": 31,
   "metadata": {
    "colab": {
     "autoexec": {
      "startup": false,
      "wait_interval": 0
     },
     "base_uri": "https://localhost:8080/",
     "height": 85,
     "output_extras": [
      {
       "item_id": 1
      }
     ]
    },
    "colab_type": "code",
    "executionInfo": {
     "elapsed": 383,
     "status": "ok",
     "timestamp": 1519503230786,
     "user": {
      "displayName": "Marc Molina",
      "photoUrl": "//lh5.googleusercontent.com/-dIBDSoYoRMc/AAAAAAAAAAI/AAAAAAAAANY/zZrXCrUi6mc/s50-c-k-no/photo.jpg",
      "userId": "107702413150327127433"
     },
     "user_tz": -60
    },
    "id": "b2-pZ7VraWrJ",
    "outputId": "b38488cb-fc0a-419c-c8df-42639e9e43db"
   },
   "outputs": [
    {
     "name": "stdout",
     "output_type": "stream",
     "text": [
      "Number of alerts without AI: 19798\n",
      "Number of alerts with AI: 638\n",
      "\n",
      "Compression ratio: 96.77745226790584%\n"
     ]
    }
   ],
   "source": [
    "print('Number of alerts without AI:', str(floor(snort_df.shape[0]/2)))\n",
    "print('Number of alerts with AI:', str(meta_alerts.shape[0]))\n",
    "print('\\nCompression ratio:', str(100 - meta_alerts.shape[0]/(floor(snort_df.shape[0]/2))*100) + '%')"
   ]
  },
  {
   "cell_type": "code",
   "execution_count": 32,
   "metadata": {},
   "outputs": [],
   "source": [
    "import ast\n",
    "\n",
    "IPsrc_all = [ast.literal_eval(x) for x in meta_alerts.IPsrc.values]\n",
    "IPdst_all = [ast.literal_eval(x) for x in meta_alerts.IPdst.values]\n",
    "\n",
    "Psrc_all = [ast.literal_eval(x) for x in meta_alerts.Psrc.values]\n",
    "Pdst_all = [ast.literal_eval(x) for x in meta_alerts.Pdst.values]"
   ]
  },
  {
   "cell_type": "code",
   "execution_count": 33,
   "metadata": {},
   "outputs": [
    {
     "name": "stdout",
     "output_type": "stream",
     "text": [
      "588 spotted machines\n",
      "3134 spotted ports\n"
     ]
    }
   ],
   "source": [
    "from functools import reduce\n",
    "\n",
    "IPsrc_set = reduce(lambda x,y: x.union(y), IPsrc_all)\n",
    "IPdst_set = reduce(lambda x,y: x.union(y), IPdst_all)\n",
    "\n",
    "n_spotted_machines = len(IPsrc_set.union(IPdst_set))\n",
    "\n",
    "print(str(n_spotted_machines), \"spotted machines\")\n",
    "\n",
    "Psrc_set = reduce(lambda x,y: x.union(y), Psrc_all)\n",
    "Pdst_set = reduce(lambda x,y: x.union(y), Pdst_all)\n",
    "\n",
    "n_spotted_ports = len(Psrc_set.union(Pdst_set))\n",
    "\n",
    "print(str(n_spotted_ports), \"spotted ports\")"
   ]
  },
  {
   "cell_type": "code",
   "execution_count": 34,
   "metadata": {},
   "outputs": [
    {
     "name": "stdout",
     "output_type": "stream",
     "text": [
      "Most aggressive machines: ['11.11.79.105', '11.11.79.110', '11.11.79.90', '11.11.79.100', '11.11.79.95']\n",
      "Most targeted machines: ['11.11.79.105', '11.11.79.110', '11.11.79.80', '11.11.79.67', '11.11.79.90']\n"
     ]
    }
   ],
   "source": [
    "from collections import Counter\n",
    "\n",
    "flatten = lambda l: [item for sublist in l for item in sublist]\n",
    "\n",
    "IPsrc_list = flatten(list(x) for x in IPsrc_all)\n",
    "IPdst_list = flatten(list(x) for x in IPdst_all)\n",
    "\n",
    "n_most_aggressive_machines = [x[0] for x in Counter(IPsrc_list).most_common()[:5]]\n",
    "n_most_targeted_machines = [x[0] for x in Counter(IPdst_list).most_common()[:5]]\n",
    "\n",
    "print(\"Most aggressive machines:\", str(n_most_aggressive_machines))\n",
    "print(\"Most targeted machines:\", str(n_most_targeted_machines))"
   ]
  },
  {
   "cell_type": "code",
   "execution_count": null,
   "metadata": {},
   "outputs": [],
   "source": []
  }
 ],
 "metadata": {
  "accelerator": "GPU",
  "colab": {
   "collapsed_sections": [],
   "default_view": {},
   "name": "SotM34.ipynb",
   "provenance": [],
   "version": "0.3.2",
   "views": {}
  },
  "kernelspec": {
   "display_name": "Python 3",
   "language": "python",
   "name": "python3"
  },
  "language_info": {
   "codemirror_mode": {
    "name": "ipython",
    "version": 3
   },
   "file_extension": ".py",
   "mimetype": "text/x-python",
   "name": "python",
   "nbconvert_exporter": "python",
   "pygments_lexer": "ipython3",
   "version": "3.7.6"
  },
  "pycharm": {
   "stem_cell": {
    "cell_type": "raw",
    "metadata": {
     "collapsed": false
    },
    "source": []
   }
  }
 },
 "nbformat": 4,
 "nbformat_minor": 1
}
